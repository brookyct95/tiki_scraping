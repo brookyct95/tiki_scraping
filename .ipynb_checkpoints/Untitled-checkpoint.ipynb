{
 "cells": [
  {
   "cell_type": "code",
   "execution_count": 1,
   "metadata": {},
   "outputs": [],
   "source": [
    "import requests\n",
    "BASE_URL = 'https://tiki.vn/dien-thoai-may-tinh-bang/c1789?src=c.1789'\n",
    "response = requests.get(BASE_URL)\n",
    "\n"
   ]
  },
  {
   "cell_type": "code",
   "execution_count": 2,
   "metadata": {},
   "outputs": [
    {
     "data": {
      "text/plain": [
       "bs4.BeautifulSoup"
      ]
     },
     "execution_count": 2,
     "metadata": {},
     "output_type": "execute_result"
    }
   ],
   "source": [
    "from bs4 import BeautifulSoup\n",
    "soup = BeautifulSoup(response.text)\n",
    "type(soup)"
   ]
  },
  {
   "cell_type": "code",
   "execution_count": 14,
   "metadata": {
    "scrolled": true
   },
   "outputs": [
    {
     "data": {
      "text/plain": [
       "<div class=\"product-item\" data-brand=\"Xiaomi\" data-category=\"Điện Thoại - Máy Tính Bảng/Điện thoại Smartphone\" data-id=\"4818337\" data-price=\"3580000\" data-score=\"\" data-seller-product-id=\"4900479\" data-title=\"Điện Thoại Xiaomi Mi 8 Lite (4GB / 64GB) - Hàng Chính Hãng\" rel=\"\" tpl=\"\">\n",
       "<a class=\"\" data-id=\"4818337\" data-score=\"\" href=\"https://tiki.vn/dien-thoai-xiaomi-mi-8-lite-4gb-64gb-hang-chinh-hang-p4818337.html?src=category-page-1789&amp;2hi=1\" title=\"Điện Thoại Xiaomi Mi 8 Lite (4GB / 64GB) - Hàng Chính Hãng\">\n",
       "<div class=\"content\">\n",
       "<span class=\"image\">\n",
       "<img alt=\"\" class=\"product-image img-responsive\" src=\"https://salt.tikicdn.com/cache/200x200/ts/product/bc/23/09/76d09086ceaa3d0d9905fe56644e9e9e.jpg\"/>\n",
       "<span class=\"product-right-icon\">\n",
       "<i class=\"tikicon icon-tikinow-20\"></i>\n",
       "</span>\n",
       "</span>\n",
       "<p class=\"icons\">\n",
       "<i class=\"tikicon icon-tikinow\"></i>\n",
       "</p>\n",
       "<p class=\"title\">\n",
       "<i class=\"tikicon icon-tikinow\"></i>\n",
       "                                                    Điện Thoại Xiaomi Mi 8 Lite (4GB / 64GB) -...            </p>\n",
       "<p class=\"price-sale\">\n",
       "<span class=\"final-price\">\n",
       "                    3.580.000đ                    <span class=\"sale-tag sale-tag-square\">-46%</span>\n",
       "</span>\n",
       "<span class=\"price-regular\">6.690.000đ</span>\n",
       "<span class=\"sale-tag sale-tag-square\">-46%</span>\n",
       "</p>\n",
       "</div>\n",
       "<div class=\"price-tag-wrap\">\n",
       "</div>\n",
       "<div class=\"review-wrap\">\n",
       "<p class=\"rating\">\n",
       "<span class=\"rating-content\">\n",
       "<i class=\"star\"></i>\n",
       "<i class=\"star\"></i>\n",
       "<i class=\"star\"></i>\n",
       "<i class=\"star\"></i>\n",
       "<i class=\"star\"></i>\n",
       "<span style=\"width:91%\">\n",
       "<i class=\"star\"></i>\n",
       "<i class=\"star\"></i>\n",
       "<i class=\"star\"></i>\n",
       "<i class=\"star\"></i>\n",
       "<i class=\"star\"></i>\n",
       "</span>\n",
       "</span>\n",
       "</p>\n",
       "<p class=\"review\">(202 nhận xét)</p>\n",
       "</div>\n",
       "<div class=\"installment-wrapper\">\n",
       "<p class=\"installment\">\n",
       "<i class=\"tikicon icon-tra-gop-64\"></i>\n",
       "<span class=\"installment-price\">Chỉ 298.333 ₫/tháng</span>\n",
       "<span class=\"installment-price-v2\">Trả góp 0%</span>\n",
       "</p>\n",
       "</div>\n",
       "<div class=\"ship-label-wrapper\">\n",
       "</div>\n",
       "</a>\n",
       "</div>"
      ]
     },
     "execution_count": 14,
     "metadata": {},
     "output_type": "execute_result"
    }
   ],
   "source": [
    "item_general = soup.find('div',class_ = 'product-item')\n",
    "item_general "
   ]
  },
  {
   "cell_type": "code",
   "execution_count": 4,
   "metadata": {},
   "outputs": [
    {
     "data": {
      "text/plain": [
       "'4818337'"
      ]
     },
     "execution_count": 4,
     "metadata": {},
     "output_type": "execute_result"
    }
   ],
   "source": [
    "item_id = item_general['data-id']\n",
    "item_id"
   ]
  },
  {
   "cell_type": "code",
   "execution_count": 5,
   "metadata": {},
   "outputs": [
    {
     "data": {
      "text/plain": [
       "'Điện Thoại Xiaomi Mi 8 Lite (4GB / 64GB) - Hàng Chính Hãng'"
      ]
     },
     "execution_count": 5,
     "metadata": {},
     "output_type": "execute_result"
    }
   ],
   "source": [
    "item_name = item_general['data-title'].strip(' ')\n",
    "item_name"
   ]
  },
  {
   "cell_type": "code",
   "execution_count": 6,
   "metadata": {},
   "outputs": [
    {
     "data": {
      "text/plain": [
       "'3580000'"
      ]
     },
     "execution_count": 6,
     "metadata": {},
     "output_type": "execute_result"
    }
   ],
   "source": [
    "item_price = item_general['data-price']\n",
    "item_price"
   ]
  },
  {
   "cell_type": "code",
   "execution_count": 7,
   "metadata": {},
   "outputs": [
    {
     "data": {
      "text/plain": [
       "'Điện Thoại - Máy Tính Bảng/Điện thoại Smartphone'"
      ]
     },
     "execution_count": 7,
     "metadata": {},
     "output_type": "execute_result"
    }
   ],
   "source": [
    "item_category = item_general['data-category']\n",
    "item_category"
   ]
  },
  {
   "cell_type": "code",
   "execution_count": 8,
   "metadata": {},
   "outputs": [
    {
     "data": {
      "text/plain": [
       "'Xiaomi'"
      ]
     },
     "execution_count": 8,
     "metadata": {},
     "output_type": "execute_result"
    }
   ],
   "source": [
    "item_brand = item_general['data-brand']\n",
    "item_brand"
   ]
  },
  {
   "cell_type": "code",
   "execution_count": 9,
   "metadata": {},
   "outputs": [
    {
     "data": {
      "text/plain": [
       "'https://salt.tikicdn.com/cache/200x200/ts/product/bc/23/09/76d09086ceaa3d0d9905fe56644e9e9e.jpg'"
      ]
     },
     "execution_count": 9,
     "metadata": {},
     "output_type": "execute_result"
    }
   ],
   "source": [
    "item_img_link = item_general.img['src']\n",
    "item_img_link"
   ]
  },
  {
   "cell_type": "code",
   "execution_count": 67,
   "metadata": {},
   "outputs": [
    {
     "name": "stdout",
     "output_type": "stream",
     "text": [
      "width:91%\n"
     ]
    }
   ],
   "source": [
    "print(item_general.find('span', class_='rating-content').span['style'])"
   ]
  },
  {
   "cell_type": "code",
   "execution_count": 10,
   "metadata": {},
   "outputs": [],
   "source": [
    "item_generals = soup.findAll('div',class_ = 'product-item')"
   ]
  },
  {
   "cell_type": "code",
   "execution_count": 75,
   "metadata": {},
   "outputs": [
    {
     "name": "stdout",
     "output_type": "stream",
     "text": [
      "202\n"
     ]
    }
   ],
   "source": [
    "print(item_general.find('p', class_='review').text.split()[0].strip('()'))"
   ]
  },
  {
   "cell_type": "code",
   "execution_count": 85,
   "metadata": {},
   "outputs": [
    {
     "data": {
      "text/plain": [
       "<i class=\"tikicon icon-tikinow\"></i>"
      ]
     },
     "execution_count": 85,
     "metadata": {},
     "output_type": "execute_result"
    }
   ],
   "source": [
    "item_general.find('i', class_='tikicon icon-tikinow')"
   ]
  },
  {
   "cell_type": "code",
   "execution_count": 84,
   "metadata": {},
   "outputs": [
    {
     "data": {
      "text/plain": [
       "<div class=\"product-item\" data-brand=\"OPPO\" data-category=\"Điện Thoại - Máy Tính Bảng/Điện thoại Smartphone\" data-id=\"11589307\" data-price=\"5490000\" data-score=\"\" data-seller-product-id=\"12379731\" data-title=\"Điện Thoại OPPO F11 Pro (6GB/64GB) - Hàng Chính Hãng\" rel=\"\" tpl=\"\">\n",
       "<a class=\"\" data-id=\"11589307\" data-score=\"\" href=\"https://tiki.vn/dien-thoai-oppo-f11-pro-6gb-64gb-hang-chinh-hang-p11589307.html?src=category-page-1789&amp;2hi=1\" title=\"Điện Thoại OPPO F11 Pro (6GB/64GB) - Hàng Chính Hãng\">\n",
       "<div class=\"content\">\n",
       "<span class=\"image\">\n",
       "<img alt=\"\" class=\"product-image img-responsive\" src=\"https://salt.tikicdn.com/cache/200x200/ts/product/53/4e/42/9d176c816ed49554af03982b30701621.JPG\"/>\n",
       "<span class=\"product-right-icon\">\n",
       "<i class=\"tikicon icon-tikinow-20\"></i>\n",
       "</span>\n",
       "</span>\n",
       "<p class=\"icons\">\n",
       "<i class=\"tikicon icon-tikinow\"></i>\n",
       "</p>\n",
       "<p class=\"title\">\n",
       "<i class=\"tikicon icon-tikinow\"></i>\n",
       "                                                    Điện Thoại OPPO F11 Pro (6GB/64GB) - Hàng...            </p>\n",
       "<p class=\"price-sale\">\n",
       "<span class=\"final-price\">\n",
       "                    5.490.000đ                    <span class=\"sale-tag sale-tag-square\">-35%</span>\n",
       "</span>\n",
       "<span class=\"price-regular\">8.490.000đ</span>\n",
       "<span class=\"sale-tag sale-tag-square\">-35%</span>\n",
       "</p>\n",
       "</div>\n",
       "<div class=\"price-tag-wrap\">\n",
       "</div>\n",
       "<div class=\"review-wrap\">\n",
       "<p class=\"rating\">\n",
       "<span class=\"rating-content\">\n",
       "<i class=\"star\"></i>\n",
       "<i class=\"star\"></i>\n",
       "<i class=\"star\"></i>\n",
       "<i class=\"star\"></i>\n",
       "<i class=\"star\"></i>\n",
       "<span style=\"width:93%\">\n",
       "<i class=\"star\"></i>\n",
       "<i class=\"star\"></i>\n",
       "<i class=\"star\"></i>\n",
       "<i class=\"star\"></i>\n",
       "<i class=\"star\"></i>\n",
       "</span>\n",
       "</span>\n",
       "</p>\n",
       "<p class=\"review\">(52 nhận xét)</p>\n",
       "</div>\n",
       "<div class=\"installment-wrapper\">\n",
       "<p class=\"installment\">\n",
       "<i class=\"tikicon icon-tra-gop-64\"></i>\n",
       "<span class=\"installment-price\">Chỉ 457.500 ₫/tháng</span>\n",
       "<span class=\"installment-price-v2\">Trả góp 0%</span>\n",
       "</p>\n",
       "</div>\n",
       "<div class=\"ship-label-wrapper\">\n",
       "</div>\n",
       "</a>\n",
       "</div>"
      ]
     },
     "execution_count": 84,
     "metadata": {},
     "output_type": "execute_result"
    }
   ],
   "source": [
    "item_generals[1]"
   ]
  },
  {
   "cell_type": "code",
   "execution_count": null,
   "metadata": {},
   "outputs": [],
   "source": [
    "item_rating_"
   ]
  },
  {
   "cell_type": "code",
   "execution_count": 89,
   "metadata": {},
   "outputs": [],
   "source": [
    "id_list, name_list, category_list, brand_list, img_link_list, price_list, item_link_list,rating_list,no_review_list, tikinow_list =[], [], [],[],[],[],[],[],[],[]\n",
    "for item in item_generals:\n",
    "    id_list.append(item['data-id'])\n",
    "    name_list.append(item['data-title'].strip(' '))\n",
    "    category_list.append(item['data-category'])\n",
    "    brand_list.append(item['data-brand'])\n",
    "    price_list.append(item['data-price'])\n",
    "    img_link_list.append(item.img['src'])\n",
    "    item_link_list.append(item.a['href'])\n",
    "    rating_list.append(item.find('span', class_='rating-content').span['style'][-4:].strip(' %:'))\n",
    "    no_review_list.append(item.find('p', class_='review').text.split()[0].strip('()'))\n",
    "    tikinow_list.append(1 if item.find('i', class_='tikicon icon-tikinow') else 0)"
   ]
  },
  {
   "cell_type": "code",
   "execution_count": 82,
   "metadata": {},
   "outputs": [
    {
     "data": {
      "text/html": [
       "<div>\n",
       "<style scoped>\n",
       "    .dataframe tbody tr th:only-of-type {\n",
       "        vertical-align: middle;\n",
       "    }\n",
       "\n",
       "    .dataframe tbody tr th {\n",
       "        vertical-align: top;\n",
       "    }\n",
       "\n",
       "    .dataframe thead th {\n",
       "        text-align: right;\n",
       "    }\n",
       "</style>\n",
       "<table border=\"1\" class=\"dataframe\">\n",
       "  <thead>\n",
       "    <tr style=\"text-align: right;\">\n",
       "      <th></th>\n",
       "      <th>id</th>\n",
       "      <th>name</th>\n",
       "      <th>category</th>\n",
       "      <th>brand</th>\n",
       "      <th>item_link</th>\n",
       "      <th>img_link</th>\n",
       "      <th>price</th>\n",
       "      <th>rating</th>\n",
       "      <th>review</th>\n",
       "    </tr>\n",
       "  </thead>\n",
       "  <tbody>\n",
       "    <tr>\n",
       "      <th>0</th>\n",
       "      <td>4818337</td>\n",
       "      <td>Điện Thoại Xiaomi Mi 8 Lite (4GB / 64GB) - Hàn...</td>\n",
       "      <td>Điện Thoại - Máy Tính Bảng/Điện thoại Smartphone</td>\n",
       "      <td>Xiaomi</td>\n",
       "      <td>https://tiki.vn/dien-thoai-xiaomi-mi-8-lite-4g...</td>\n",
       "      <td>https://salt.tikicdn.com/cache/200x200/ts/prod...</td>\n",
       "      <td>3580000</td>\n",
       "      <td>91</td>\n",
       "      <td>202</td>\n",
       "    </tr>\n",
       "    <tr>\n",
       "      <th>1</th>\n",
       "      <td>11589307</td>\n",
       "      <td>Điện Thoại OPPO F11 Pro (6GB/64GB) - Hàng Chín...</td>\n",
       "      <td>Điện Thoại - Máy Tính Bảng/Điện thoại Smartphone</td>\n",
       "      <td>OPPO</td>\n",
       "      <td>https://tiki.vn/dien-thoai-oppo-f11-pro-6gb-64...</td>\n",
       "      <td>https://salt.tikicdn.com/cache/200x200/ts/prod...</td>\n",
       "      <td>5490000</td>\n",
       "      <td>93</td>\n",
       "      <td>52</td>\n",
       "    </tr>\n",
       "    <tr>\n",
       "      <th>2</th>\n",
       "      <td>36699543</td>\n",
       "      <td>Điện Thoại iPhone 7 Plus - Hàng Chính Hãng VN/A</td>\n",
       "      <td>Điện Thoại - Máy Tính Bảng/Điện thoại Smartphone</td>\n",
       "      <td>Apple</td>\n",
       "      <td>https://tiki.vn/dien-thoai-iphone-7-plus-hang-...</td>\n",
       "      <td>https://salt.tikicdn.com/cache/200x200/ts/prod...</td>\n",
       "      <td>10990000</td>\n",
       "      <td>90</td>\n",
       "      <td>83</td>\n",
       "    </tr>\n",
       "    <tr>\n",
       "      <th>3</th>\n",
       "      <td>10581161</td>\n",
       "      <td>Điện Thoại Samsung Galaxy M10 (16GB/2GB) - Hàn...</td>\n",
       "      <td>Điện Thoại - Máy Tính Bảng/Điện thoại Smartphone</td>\n",
       "      <td>Samsung</td>\n",
       "      <td>https://tiki.vn/dien-thoai-samsung-galaxy-m10-...</td>\n",
       "      <td>https://salt.tikicdn.com/cache/200x200/ts/prod...</td>\n",
       "      <td>2399000</td>\n",
       "      <td>94</td>\n",
       "      <td>29</td>\n",
       "    </tr>\n",
       "    <tr>\n",
       "      <th>4</th>\n",
       "      <td>1929161</td>\n",
       "      <td>iPad WiFi 32GB New 2018 - Hàng Nhập Khẩu Chính...</td>\n",
       "      <td>Điện Thoại - Máy Tính Bảng/Máy tính bảng</td>\n",
       "      <td>Apple</td>\n",
       "      <td>https://tiki.vn/ipad-wifi-32gb-new-2018-hang-n...</td>\n",
       "      <td>https://salt.tikicdn.com/cache/200x200/ts/prod...</td>\n",
       "      <td>6790000</td>\n",
       "      <td>92</td>\n",
       "      <td>1259</td>\n",
       "    </tr>\n",
       "  </tbody>\n",
       "</table>\n",
       "</div>"
      ],
      "text/plain": [
       "         id                                               name  \\\n",
       "0   4818337  Điện Thoại Xiaomi Mi 8 Lite (4GB / 64GB) - Hàn...   \n",
       "1  11589307  Điện Thoại OPPO F11 Pro (6GB/64GB) - Hàng Chín...   \n",
       "2  36699543    Điện Thoại iPhone 7 Plus - Hàng Chính Hãng VN/A   \n",
       "3  10581161  Điện Thoại Samsung Galaxy M10 (16GB/2GB) - Hàn...   \n",
       "4   1929161  iPad WiFi 32GB New 2018 - Hàng Nhập Khẩu Chính...   \n",
       "\n",
       "                                           category    brand  \\\n",
       "0  Điện Thoại - Máy Tính Bảng/Điện thoại Smartphone   Xiaomi   \n",
       "1  Điện Thoại - Máy Tính Bảng/Điện thoại Smartphone     OPPO   \n",
       "2  Điện Thoại - Máy Tính Bảng/Điện thoại Smartphone    Apple   \n",
       "3  Điện Thoại - Máy Tính Bảng/Điện thoại Smartphone  Samsung   \n",
       "4          Điện Thoại - Máy Tính Bảng/Máy tính bảng    Apple   \n",
       "\n",
       "                                           item_link  \\\n",
       "0  https://tiki.vn/dien-thoai-xiaomi-mi-8-lite-4g...   \n",
       "1  https://tiki.vn/dien-thoai-oppo-f11-pro-6gb-64...   \n",
       "2  https://tiki.vn/dien-thoai-iphone-7-plus-hang-...   \n",
       "3  https://tiki.vn/dien-thoai-samsung-galaxy-m10-...   \n",
       "4  https://tiki.vn/ipad-wifi-32gb-new-2018-hang-n...   \n",
       "\n",
       "                                            img_link     price rating review  \n",
       "0  https://salt.tikicdn.com/cache/200x200/ts/prod...   3580000     91    202  \n",
       "1  https://salt.tikicdn.com/cache/200x200/ts/prod...   5490000     93     52  \n",
       "2  https://salt.tikicdn.com/cache/200x200/ts/prod...  10990000     90     83  \n",
       "3  https://salt.tikicdn.com/cache/200x200/ts/prod...   2399000     94     29  \n",
       "4  https://salt.tikicdn.com/cache/200x200/ts/prod...   6790000     92   1259  "
      ]
     },
     "execution_count": 82,
     "metadata": {},
     "output_type": "execute_result"
    }
   ],
   "source": [
    "import pandas as pd\n",
    "data = pd.DataFrame({\n",
    "    'id':id_list, \n",
    "    'name':name_list, \n",
    "    'category':category_list, \n",
    "    'brand':brand_list, \n",
    "    'item_link':item_link_list, \n",
    "    'img_link':img_link_list, \n",
    "    'price':price_list,\n",
    "    'rating':rating_list,\n",
    "    'review':no_review_list,\n",
    "    'tikinow':tikinow_list})\n",
    "data.head()\n"
   ]
  },
  {
   "cell_type": "code",
   "execution_count": 90,
   "metadata": {},
   "outputs": [
    {
     "name": "stdout",
     "output_type": "stream",
     "text": [
      "[1, 1, 1, 1, 1, 1, 0, 1, 0, 0, 1, 1, 1, 1, 1, 1, 1, 1, 0, 1, 1, 1, 0, 1, 0, 1, 1, 0, 1, 0, 1, 1, 1, 1, 1, 1, 1, 1, 1, 1, 1, 1, 1, 1, 1, 1, 1, 0]\n"
     ]
    }
   ],
   "source": [
    "print(tikinow_list)"
   ]
  },
  {
   "cell_type": "code",
   "execution_count": null,
   "metadata": {},
   "outputs": [],
   "source": [
    "data.set_axis(['id','name','category','brand','img_link','price'],axis = 1, inplace = True)\n",
    "data.head()"
   ]
  },
  {
   "cell_type": "code",
   "execution_count": null,
   "metadata": {},
   "outputs": [],
   "source": [
    "data.set_index('id',inplace = True)"
   ]
  },
  {
   "cell_type": "code",
   "execution_count": null,
   "metadata": {},
   "outputs": [],
   "source": [
    "data.head()"
   ]
  },
  {
   "cell_type": "code",
   "execution_count": null,
   "metadata": {},
   "outputs": [],
   "source": [
    "data.head()"
   ]
  },
  {
   "cell_type": "code",
   "execution_count": null,
   "metadata": {},
   "outputs": [],
   "source": [
    "data.loc[0,'id']"
   ]
  },
  {
   "cell_type": "code",
   "execution_count": null,
   "metadata": {},
   "outputs": [],
   "source": [
    "url_lish = ''"
   ]
  }
 ],
 "metadata": {
  "kernelspec": {
   "display_name": "Python 3",
   "language": "python",
   "name": "python3"
  },
  "language_info": {
   "codemirror_mode": {
    "name": "ipython",
    "version": 3
   },
   "file_extension": ".py",
   "mimetype": "text/x-python",
   "name": "python",
   "nbconvert_exporter": "python",
   "pygments_lexer": "ipython3",
   "version": "3.7.3"
  }
 },
 "nbformat": 4,
 "nbformat_minor": 2
}
