{
 "cells": [
  {
   "cell_type": "code",
   "execution_count": 1,
   "metadata": {},
   "outputs": [],
   "source": [
    "import requests\n",
    "BASE_URL = 'https://tiki.vn/dien-thoai-may-tinh-bang/c1789?src=c.1789'\n",
    "response = requests.get(BASE_URL)\n",
    "\n"
   ]
  },
  {
   "cell_type": "code",
   "execution_count": 2,
   "metadata": {},
   "outputs": [
    {
     "data": {
      "text/plain": [
       "bs4.BeautifulSoup"
      ]
     },
     "execution_count": 2,
     "metadata": {},
     "output_type": "execute_result"
    }
   ],
   "source": [
    "from bs4 import BeautifulSoup\n",
    "soup = BeautifulSoup(response.text)\n",
    "type(soup)"
   ]
  },
  {
   "cell_type": "code",
   "execution_count": 14,
   "metadata": {},
   "outputs": [
    {
     "data": {
      "text/plain": [
       "<div class=\"content\">\n",
       "<span class=\"image\">\n",
       "<img alt=\"\" class=\"product-image img-responsive\" src=\"https://salt.tikicdn.com/cache/200x200/ts/product/bc/23/09/76d09086ceaa3d0d9905fe56644e9e9e.jpg\"/>\n",
       "<span class=\"product-right-icon\">\n",
       "<i class=\"tikicon icon-tikinow-20\"></i>\n",
       "</span>\n",
       "</span>\n",
       "<p class=\"icons\">\n",
       "<i class=\"tikicon icon-tikinow\"></i>\n",
       "</p>\n",
       "<p class=\"title\">\n",
       "<i class=\"tikicon icon-tikinow\"></i>\n",
       "                                                    Điện Thoại Xiaomi Mi 8 Lite (4GB / 64GB) -...            </p>\n",
       "<p class=\"price-sale\">\n",
       "<span class=\"final-price\">\n",
       "                    3.580.000đ                    <span class=\"sale-tag sale-tag-square\">-46%</span>\n",
       "</span>\n",
       "<span class=\"price-regular\">6.690.000đ</span>\n",
       "<span class=\"sale-tag sale-tag-square\">-46%</span>\n",
       "</p>\n",
       "</div>"
      ]
     },
     "execution_count": 14,
     "metadata": {},
     "output_type": "execute_result"
    }
   ],
   "source": [
    "item = soup.find('div',class_ = 'content')\n",
    "item"
   ]
  },
  {
   "cell_type": "code",
   "execution_count": 19,
   "metadata": {},
   "outputs": [
    {
     "name": "stdout",
     "output_type": "stream",
     "text": [
      "https://salt.tikicdn.com/cache/200x200/ts/product/bc/23/09/76d09086ceaa3d0d9905fe56644e9e9e.jpg\n"
     ]
    }
   ],
   "source": [
    "print(item.img['src'])"
   ]
  },
  {
   "cell_type": "code",
   "execution_count": 29,
   "metadata": {},
   "outputs": [],
   "source": [
    "name = item.find(class_ = 'title').text.strip('')"
   ]
  },
  {
   "cell_type": "code",
   "execution_count": 30,
   "metadata": {},
   "outputs": [
    {
     "name": "stdout",
     "output_type": "stream",
     "text": [
      "\n",
      "\n",
      "                                                    Điện Thoại Xiaomi Mi 8 Lite (4GB / 64GB) -...\n"
     ]
    }
   ],
   "source": [
    "print(name)"
   ]
  },
  {
   "cell_type": "code",
   "execution_count": null,
   "metadata": {},
   "outputs": [],
   "source": []
  }
 ],
 "metadata": {
  "kernelspec": {
   "display_name": "Python 3",
   "language": "python",
   "name": "python3"
  },
  "language_info": {
   "codemirror_mode": {
    "name": "ipython",
    "version": 3
   },
   "file_extension": ".py",
   "mimetype": "text/x-python",
   "name": "python",
   "nbconvert_exporter": "python",
   "pygments_lexer": "ipython3",
   "version": "3.7.3"
  }
 },
 "nbformat": 4,
 "nbformat_minor": 2
}
