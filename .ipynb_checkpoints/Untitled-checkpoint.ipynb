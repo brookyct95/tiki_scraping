{
 "cells": [
  {
   "cell_type": "code",
   "execution_count": 1,
   "metadata": {},
   "outputs": [],
   "source": [
    "import requests\n",
    "BASE_URL = 'https://tiki.vn/dien-thoai-may-tinh-bang/c1789?src=c.1789'\n",
    "response = requests.get(BASE_URL)\n",
    "\n"
   ]
  },
  {
   "cell_type": "code",
   "execution_count": 2,
   "metadata": {},
   "outputs": [
    {
     "data": {
      "text/plain": [
       "bs4.BeautifulSoup"
      ]
     },
     "execution_count": 2,
     "metadata": {},
     "output_type": "execute_result"
    }
   ],
   "source": [
    "from bs4 import BeautifulSoup\n",
    "soup = BeautifulSoup(response.text)\n",
    "type(soup)"
   ]
  },
  {
   "cell_type": "code",
   "execution_count": 99,
   "metadata": {},
   "outputs": [
    {
     "name": "stdout",
     "output_type": "stream",
     "text": [
      "/dien-thoai-may-tinh-bang/c1789?src=c.1789&page=2\n"
     ]
    }
   ],
   "source": [
    "soup.find('a',class_='next')['href'])"
   ]
  },
  {
   "cell_type": "code",
   "execution_count": 14,
   "metadata": {
    "scrolled": true
   },
   "outputs": [
    {
     "data": {
      "text/plain": [
       "<div class=\"product-item\" data-brand=\"Xiaomi\" data-category=\"Điện Thoại - Máy Tính Bảng/Điện thoại Smartphone\" data-id=\"4818337\" data-price=\"3580000\" data-score=\"\" data-seller-product-id=\"4900479\" data-title=\"Điện Thoại Xiaomi Mi 8 Lite (4GB / 64GB) - Hàng Chính Hãng\" rel=\"\" tpl=\"\">\n",
       "<a class=\"\" data-id=\"4818337\" data-score=\"\" href=\"https://tiki.vn/dien-thoai-xiaomi-mi-8-lite-4gb-64gb-hang-chinh-hang-p4818337.html?src=category-page-1789&amp;2hi=1\" title=\"Điện Thoại Xiaomi Mi 8 Lite (4GB / 64GB) - Hàng Chính Hãng\">\n",
       "<div class=\"content\">\n",
       "<span class=\"image\">\n",
       "<img alt=\"\" class=\"product-image img-responsive\" src=\"https://salt.tikicdn.com/cache/200x200/ts/product/bc/23/09/76d09086ceaa3d0d9905fe56644e9e9e.jpg\"/>\n",
       "<span class=\"product-right-icon\">\n",
       "<i class=\"tikicon icon-tikinow-20\"></i>\n",
       "</span>\n",
       "</span>\n",
       "<p class=\"icons\">\n",
       "<i class=\"tikicon icon-tikinow\"></i>\n",
       "</p>\n",
       "<p class=\"title\">\n",
       "<i class=\"tikicon icon-tikinow\"></i>\n",
       "                                                    Điện Thoại Xiaomi Mi 8 Lite (4GB / 64GB) -...            </p>\n",
       "<p class=\"price-sale\">\n",
       "<span class=\"final-price\">\n",
       "                    3.580.000đ                    <span class=\"sale-tag sale-tag-square\">-46%</span>\n",
       "</span>\n",
       "<span class=\"price-regular\">6.690.000đ</span>\n",
       "<span class=\"sale-tag sale-tag-square\">-46%</span>\n",
       "</p>\n",
       "</div>\n",
       "<div class=\"price-tag-wrap\">\n",
       "</div>\n",
       "<div class=\"review-wrap\">\n",
       "<p class=\"rating\">\n",
       "<span class=\"rating-content\">\n",
       "<i class=\"star\"></i>\n",
       "<i class=\"star\"></i>\n",
       "<i class=\"star\"></i>\n",
       "<i class=\"star\"></i>\n",
       "<i class=\"star\"></i>\n",
       "<span style=\"width:91%\">\n",
       "<i class=\"star\"></i>\n",
       "<i class=\"star\"></i>\n",
       "<i class=\"star\"></i>\n",
       "<i class=\"star\"></i>\n",
       "<i class=\"star\"></i>\n",
       "</span>\n",
       "</span>\n",
       "</p>\n",
       "<p class=\"review\">(202 nhận xét)</p>\n",
       "</div>\n",
       "<div class=\"installment-wrapper\">\n",
       "<p class=\"installment\">\n",
       "<i class=\"tikicon icon-tra-gop-64\"></i>\n",
       "<span class=\"installment-price\">Chỉ 298.333 ₫/tháng</span>\n",
       "<span class=\"installment-price-v2\">Trả góp 0%</span>\n",
       "</p>\n",
       "</div>\n",
       "<div class=\"ship-label-wrapper\">\n",
       "</div>\n",
       "</a>\n",
       "</div>"
      ]
     },
     "execution_count": 14,
     "metadata": {},
     "output_type": "execute_result"
    }
   ],
   "source": [
    "item_general = soup.find('div',class_ = 'product-item')\n",
    "item_general "
   ]
  },
  {
   "cell_type": "code",
   "execution_count": 4,
   "metadata": {},
   "outputs": [
    {
     "data": {
      "text/plain": [
       "'4818337'"
      ]
     },
     "execution_count": 4,
     "metadata": {},
     "output_type": "execute_result"
    }
   ],
   "source": [
    "item_id = item_general['data-id']\n",
    "item_id"
   ]
  },
  {
   "cell_type": "code",
   "execution_count": 5,
   "metadata": {},
   "outputs": [
    {
     "data": {
      "text/plain": [
       "'Điện Thoại Xiaomi Mi 8 Lite (4GB / 64GB) - Hàng Chính Hãng'"
      ]
     },
     "execution_count": 5,
     "metadata": {},
     "output_type": "execute_result"
    }
   ],
   "source": [
    "item_name = item_general['data-title'].strip(' ')\n",
    "item_name"
   ]
  },
  {
   "cell_type": "code",
   "execution_count": 6,
   "metadata": {},
   "outputs": [
    {
     "data": {
      "text/plain": [
       "'3580000'"
      ]
     },
     "execution_count": 6,
     "metadata": {},
     "output_type": "execute_result"
    }
   ],
   "source": [
    "item_price = item_general['data-price']\n",
    "item_price"
   ]
  },
  {
   "cell_type": "code",
   "execution_count": 7,
   "metadata": {},
   "outputs": [
    {
     "data": {
      "text/plain": [
       "'Điện Thoại - Máy Tính Bảng/Điện thoại Smartphone'"
      ]
     },
     "execution_count": 7,
     "metadata": {},
     "output_type": "execute_result"
    }
   ],
   "source": [
    "item_category = item_general['data-category']\n",
    "item_category"
   ]
  },
  {
   "cell_type": "code",
   "execution_count": 8,
   "metadata": {},
   "outputs": [
    {
     "data": {
      "text/plain": [
       "'Xiaomi'"
      ]
     },
     "execution_count": 8,
     "metadata": {},
     "output_type": "execute_result"
    }
   ],
   "source": [
    "item_brand = item_general['data-brand']\n",
    "item_brand"
   ]
  },
  {
   "cell_type": "code",
   "execution_count": 9,
   "metadata": {},
   "outputs": [
    {
     "data": {
      "text/plain": [
       "'https://salt.tikicdn.com/cache/200x200/ts/product/bc/23/09/76d09086ceaa3d0d9905fe56644e9e9e.jpg'"
      ]
     },
     "execution_count": 9,
     "metadata": {},
     "output_type": "execute_result"
    }
   ],
   "source": [
    "item_img_link = item_general.img['src']\n",
    "item_img_link"
   ]
  },
  {
   "cell_type": "code",
   "execution_count": 67,
   "metadata": {},
   "outputs": [
    {
     "name": "stdout",
     "output_type": "stream",
     "text": [
      "width:91%\n"
     ]
    }
   ],
   "source": [
    "print(item_general.find('span', class_='rating-content').span['style'])"
   ]
  },
  {
   "cell_type": "code",
   "execution_count": 10,
   "metadata": {},
   "outputs": [],
   "source": [
    "item_generals = soup.findAll('div',class_ = 'product-item')"
   ]
  },
  {
   "cell_type": "code",
   "execution_count": 75,
   "metadata": {},
   "outputs": [
    {
     "name": "stdout",
     "output_type": "stream",
     "text": [
      "202\n"
     ]
    }
   ],
   "source": [
    "print(item_general.find('p', class_='review').text.split()[0].strip('()'))"
   ]
  },
  {
   "cell_type": "code",
   "execution_count": 85,
   "metadata": {},
   "outputs": [
    {
     "data": {
      "text/plain": [
       "<i class=\"tikicon icon-tikinow\"></i>"
      ]
     },
     "execution_count": 85,
     "metadata": {},
     "output_type": "execute_result"
    }
   ],
   "source": [
    "item_general.find('i', class_='tikicon icon-tikinow')"
   ]
  },
  {
   "cell_type": "code",
   "execution_count": 84,
   "metadata": {},
   "outputs": [
    {
     "data": {
      "text/plain": [
       "<div class=\"product-item\" data-brand=\"OPPO\" data-category=\"Điện Thoại - Máy Tính Bảng/Điện thoại Smartphone\" data-id=\"11589307\" data-price=\"5490000\" data-score=\"\" data-seller-product-id=\"12379731\" data-title=\"Điện Thoại OPPO F11 Pro (6GB/64GB) - Hàng Chính Hãng\" rel=\"\" tpl=\"\">\n",
       "<a class=\"\" data-id=\"11589307\" data-score=\"\" href=\"https://tiki.vn/dien-thoai-oppo-f11-pro-6gb-64gb-hang-chinh-hang-p11589307.html?src=category-page-1789&amp;2hi=1\" title=\"Điện Thoại OPPO F11 Pro (6GB/64GB) - Hàng Chính Hãng\">\n",
       "<div class=\"content\">\n",
       "<span class=\"image\">\n",
       "<img alt=\"\" class=\"product-image img-responsive\" src=\"https://salt.tikicdn.com/cache/200x200/ts/product/53/4e/42/9d176c816ed49554af03982b30701621.JPG\"/>\n",
       "<span class=\"product-right-icon\">\n",
       "<i class=\"tikicon icon-tikinow-20\"></i>\n",
       "</span>\n",
       "</span>\n",
       "<p class=\"icons\">\n",
       "<i class=\"tikicon icon-tikinow\"></i>\n",
       "</p>\n",
       "<p class=\"title\">\n",
       "<i class=\"tikicon icon-tikinow\"></i>\n",
       "                                                    Điện Thoại OPPO F11 Pro (6GB/64GB) - Hàng...            </p>\n",
       "<p class=\"price-sale\">\n",
       "<span class=\"final-price\">\n",
       "                    5.490.000đ                    <span class=\"sale-tag sale-tag-square\">-35%</span>\n",
       "</span>\n",
       "<span class=\"price-regular\">8.490.000đ</span>\n",
       "<span class=\"sale-tag sale-tag-square\">-35%</span>\n",
       "</p>\n",
       "</div>\n",
       "<div class=\"price-tag-wrap\">\n",
       "</div>\n",
       "<div class=\"review-wrap\">\n",
       "<p class=\"rating\">\n",
       "<span class=\"rating-content\">\n",
       "<i class=\"star\"></i>\n",
       "<i class=\"star\"></i>\n",
       "<i class=\"star\"></i>\n",
       "<i class=\"star\"></i>\n",
       "<i class=\"star\"></i>\n",
       "<span style=\"width:93%\">\n",
       "<i class=\"star\"></i>\n",
       "<i class=\"star\"></i>\n",
       "<i class=\"star\"></i>\n",
       "<i class=\"star\"></i>\n",
       "<i class=\"star\"></i>\n",
       "</span>\n",
       "</span>\n",
       "</p>\n",
       "<p class=\"review\">(52 nhận xét)</p>\n",
       "</div>\n",
       "<div class=\"installment-wrapper\">\n",
       "<p class=\"installment\">\n",
       "<i class=\"tikicon icon-tra-gop-64\"></i>\n",
       "<span class=\"installment-price\">Chỉ 457.500 ₫/tháng</span>\n",
       "<span class=\"installment-price-v2\">Trả góp 0%</span>\n",
       "</p>\n",
       "</div>\n",
       "<div class=\"ship-label-wrapper\">\n",
       "</div>\n",
       "</a>\n",
       "</div>"
      ]
     },
     "execution_count": 84,
     "metadata": {},
     "output_type": "execute_result"
    }
   ],
   "source": [
    "item_generals[1]"
   ]
  },
  {
   "cell_type": "code",
   "execution_count": null,
   "metadata": {},
   "outputs": [],
   "source": [
    "item_rating_"
   ]
  },
  {
   "cell_type": "code",
   "execution_count": 89,
   "metadata": {},
   "outputs": [],
   "source": [
    "id_list, name_list, category_list, brand_list, img_link_list, price_list, item_link_list,rating_list,no_review_list, tikinow_list =[], [], [],[],[],[],[],[],[],[]\n",
    "for item in item_generals:\n",
    "    id_list.append(item['data-id'])\n",
    "    name_list.append(item['data-title'].strip(' '))\n",
    "    category_list.append(item['data-category'])\n",
    "    brand_list.append(item['data-brand'])\n",
    "    price_list.append(item['data-price'])\n",
    "    img_link_list.append(item.img['src'])\n",
    "    item_link_list.append(item.a['href'])\n",
    "    rating_list.append(item.find('span', class_='rating-content').span['style'][-4:].strip(' %:'))\n",
    "    no_review_list.append(item.find('p', class_='review').text.split()[0].strip('()'))\n",
    "    tikinow_list.append(1 if item.find('i', class_='tikicon icon-tikinow') else 0)"
   ]
  },
  {
   "cell_type": "code",
   "execution_count": 91,
   "metadata": {},
   "outputs": [
    {
     "data": {
      "text/html": [
       "<div>\n",
       "<style scoped>\n",
       "    .dataframe tbody tr th:only-of-type {\n",
       "        vertical-align: middle;\n",
       "    }\n",
       "\n",
       "    .dataframe tbody tr th {\n",
       "        vertical-align: top;\n",
       "    }\n",
       "\n",
       "    .dataframe thead th {\n",
       "        text-align: right;\n",
       "    }\n",
       "</style>\n",
       "<table border=\"1\" class=\"dataframe\">\n",
       "  <thead>\n",
       "    <tr style=\"text-align: right;\">\n",
       "      <th></th>\n",
       "      <th>id</th>\n",
       "      <th>name</th>\n",
       "      <th>category</th>\n",
       "      <th>brand</th>\n",
       "      <th>item_link</th>\n",
       "      <th>img_link</th>\n",
       "      <th>price</th>\n",
       "      <th>rating</th>\n",
       "      <th>review</th>\n",
       "      <th>tikinow</th>\n",
       "    </tr>\n",
       "  </thead>\n",
       "  <tbody>\n",
       "    <tr>\n",
       "      <th>0</th>\n",
       "      <td>4818337</td>\n",
       "      <td>Điện Thoại Xiaomi Mi 8 Lite (4GB / 64GB) - Hàn...</td>\n",
       "      <td>Điện Thoại - Máy Tính Bảng/Điện thoại Smartphone</td>\n",
       "      <td>Xiaomi</td>\n",
       "      <td>https://tiki.vn/dien-thoai-xiaomi-mi-8-lite-4g...</td>\n",
       "      <td>https://salt.tikicdn.com/cache/200x200/ts/prod...</td>\n",
       "      <td>3580000</td>\n",
       "      <td>91</td>\n",
       "      <td>202</td>\n",
       "      <td>1</td>\n",
       "    </tr>\n",
       "    <tr>\n",
       "      <th>1</th>\n",
       "      <td>11589307</td>\n",
       "      <td>Điện Thoại OPPO F11 Pro (6GB/64GB) - Hàng Chín...</td>\n",
       "      <td>Điện Thoại - Máy Tính Bảng/Điện thoại Smartphone</td>\n",
       "      <td>OPPO</td>\n",
       "      <td>https://tiki.vn/dien-thoai-oppo-f11-pro-6gb-64...</td>\n",
       "      <td>https://salt.tikicdn.com/cache/200x200/ts/prod...</td>\n",
       "      <td>5490000</td>\n",
       "      <td>93</td>\n",
       "      <td>52</td>\n",
       "      <td>1</td>\n",
       "    </tr>\n",
       "    <tr>\n",
       "      <th>2</th>\n",
       "      <td>36699543</td>\n",
       "      <td>Điện Thoại iPhone 7 Plus - Hàng Chính Hãng VN/A</td>\n",
       "      <td>Điện Thoại - Máy Tính Bảng/Điện thoại Smartphone</td>\n",
       "      <td>Apple</td>\n",
       "      <td>https://tiki.vn/dien-thoai-iphone-7-plus-hang-...</td>\n",
       "      <td>https://salt.tikicdn.com/cache/200x200/ts/prod...</td>\n",
       "      <td>10990000</td>\n",
       "      <td>90</td>\n",
       "      <td>83</td>\n",
       "      <td>1</td>\n",
       "    </tr>\n",
       "    <tr>\n",
       "      <th>3</th>\n",
       "      <td>10581161</td>\n",
       "      <td>Điện Thoại Samsung Galaxy M10 (16GB/2GB) - Hàn...</td>\n",
       "      <td>Điện Thoại - Máy Tính Bảng/Điện thoại Smartphone</td>\n",
       "      <td>Samsung</td>\n",
       "      <td>https://tiki.vn/dien-thoai-samsung-galaxy-m10-...</td>\n",
       "      <td>https://salt.tikicdn.com/cache/200x200/ts/prod...</td>\n",
       "      <td>2399000</td>\n",
       "      <td>94</td>\n",
       "      <td>29</td>\n",
       "      <td>1</td>\n",
       "    </tr>\n",
       "    <tr>\n",
       "      <th>4</th>\n",
       "      <td>1929161</td>\n",
       "      <td>iPad WiFi 32GB New 2018 - Hàng Nhập Khẩu Chính...</td>\n",
       "      <td>Điện Thoại - Máy Tính Bảng/Máy tính bảng</td>\n",
       "      <td>Apple</td>\n",
       "      <td>https://tiki.vn/ipad-wifi-32gb-new-2018-hang-n...</td>\n",
       "      <td>https://salt.tikicdn.com/cache/200x200/ts/prod...</td>\n",
       "      <td>6790000</td>\n",
       "      <td>92</td>\n",
       "      <td>1259</td>\n",
       "      <td>1</td>\n",
       "    </tr>\n",
       "  </tbody>\n",
       "</table>\n",
       "</div>"
      ],
      "text/plain": [
       "         id                                               name  \\\n",
       "0   4818337  Điện Thoại Xiaomi Mi 8 Lite (4GB / 64GB) - Hàn...   \n",
       "1  11589307  Điện Thoại OPPO F11 Pro (6GB/64GB) - Hàng Chín...   \n",
       "2  36699543    Điện Thoại iPhone 7 Plus - Hàng Chính Hãng VN/A   \n",
       "3  10581161  Điện Thoại Samsung Galaxy M10 (16GB/2GB) - Hàn...   \n",
       "4   1929161  iPad WiFi 32GB New 2018 - Hàng Nhập Khẩu Chính...   \n",
       "\n",
       "                                           category    brand  \\\n",
       "0  Điện Thoại - Máy Tính Bảng/Điện thoại Smartphone   Xiaomi   \n",
       "1  Điện Thoại - Máy Tính Bảng/Điện thoại Smartphone     OPPO   \n",
       "2  Điện Thoại - Máy Tính Bảng/Điện thoại Smartphone    Apple   \n",
       "3  Điện Thoại - Máy Tính Bảng/Điện thoại Smartphone  Samsung   \n",
       "4          Điện Thoại - Máy Tính Bảng/Máy tính bảng    Apple   \n",
       "\n",
       "                                           item_link  \\\n",
       "0  https://tiki.vn/dien-thoai-xiaomi-mi-8-lite-4g...   \n",
       "1  https://tiki.vn/dien-thoai-oppo-f11-pro-6gb-64...   \n",
       "2  https://tiki.vn/dien-thoai-iphone-7-plus-hang-...   \n",
       "3  https://tiki.vn/dien-thoai-samsung-galaxy-m10-...   \n",
       "4  https://tiki.vn/ipad-wifi-32gb-new-2018-hang-n...   \n",
       "\n",
       "                                            img_link     price rating review  \\\n",
       "0  https://salt.tikicdn.com/cache/200x200/ts/prod...   3580000     91    202   \n",
       "1  https://salt.tikicdn.com/cache/200x200/ts/prod...   5490000     93     52   \n",
       "2  https://salt.tikicdn.com/cache/200x200/ts/prod...  10990000     90     83   \n",
       "3  https://salt.tikicdn.com/cache/200x200/ts/prod...   2399000     94     29   \n",
       "4  https://salt.tikicdn.com/cache/200x200/ts/prod...   6790000     92   1259   \n",
       "\n",
       "   tikinow  \n",
       "0        1  \n",
       "1        1  \n",
       "2        1  \n",
       "3        1  \n",
       "4        1  "
      ]
     },
     "execution_count": 91,
     "metadata": {},
     "output_type": "execute_result"
    }
   ],
   "source": [
    "import pandas as pd\n",
    "data = pd.DataFrame({\n",
    "    'id':id_list, \n",
    "    'name':name_list, \n",
    "    'category':category_list, \n",
    "    'brand':brand_list, \n",
    "    'item_link':item_link_list, \n",
    "    'img_link':img_link_list, \n",
    "    'price':price_list,\n",
    "    'rating':rating_list,\n",
    "    'review':no_review_list,\n",
    "    'tikinow':tikinow_list})\n",
    "data.head()\n"
   ]
  },
  {
   "cell_type": "code",
   "execution_count": 90,
   "metadata": {},
   "outputs": [
    {
     "name": "stdout",
     "output_type": "stream",
     "text": [
      "[1, 1, 1, 1, 1, 1, 0, 1, 0, 0, 1, 1, 1, 1, 1, 1, 1, 1, 0, 1, 1, 1, 0, 1, 0, 1, 1, 0, 1, 0, 1, 1, 1, 1, 1, 1, 1, 1, 1, 1, 1, 1, 1, 1, 1, 1, 1, 0]\n"
     ]
    }
   ],
   "source": [
    "print(tikinow_list)"
   ]
  },
  {
   "cell_type": "code",
   "execution_count": null,
   "metadata": {},
   "outputs": [],
   "source": [
    "data.set_axis(['id','name','category','brand','img_link','price'],axis = 1, inplace = True)\n",
    "data.head()"
   ]
  },
  {
   "cell_type": "code",
   "execution_count": null,
   "metadata": {},
   "outputs": [],
   "source": [
    "data.set_index('id',inplace = True)"
   ]
  },
  {
   "cell_type": "code",
   "execution_count": null,
   "metadata": {},
   "outputs": [],
   "source": [
    "data.head()"
   ]
  },
  {
   "cell_type": "code",
   "execution_count": null,
   "metadata": {},
   "outputs": [],
   "source": [
    "data.head()"
   ]
  },
  {
   "cell_type": "code",
   "execution_count": null,
   "metadata": {},
   "outputs": [],
   "source": [
    "data.loc[0,'id']"
   ]
  },
  {
   "cell_type": "code",
   "execution_count": 199,
   "metadata": {},
   "outputs": [],
   "source": [
    "from bs4 import BeautifulSoup\n",
    "import requests\n",
    "import pandas as pd \n",
    "class Scraper():\n",
    "    def scrape_page(self,url):\n",
    "        response = requests.get(url)\n",
    "        try:\n",
    "            response.raise_for_status()\n",
    "        except Exception as exc:\n",
    "            print('There was a problem: %s' % (exc))\n",
    "        soup = BeautifulSoup(response.text)\n",
    "        id_list, name_list, category_list, brand_list, img_link_list, price_list, item_link_list,rating_list,no_review_list, tikinow_list =[], [], [],[],[],[],[],[],[],[]\n",
    "        item_generals = soup.findAll('div',class_ = 'product-item')\n",
    "        for item in item_generals:\n",
    "            id_list.append(item['data-id'])\n",
    "            name_list.append(item['data-title'].strip(' '))\n",
    "            category_list.append(item['data-category'])\n",
    "            brand_list.append(item['data-brand'])\n",
    "            price_list.append(item['data-price'])\n",
    "            img_link_list.append(item.img['src'])\n",
    "            item_link_list.append(item.a['href'])\n",
    "            rating_list.append(item.find('span', class_='rating-content').span['style'][-4:].strip(' %:') if item.find('span', class_='rating-content')!= None else -1)\n",
    "            no_review_list.append(item.find('p', class_='review').text.split()[0].strip('()'))\n",
    "            tikinow_list.append(1 if item.find('i', class_='tikicon icon-tikinow') else 0)\n",
    "        data = pd.DataFrame({'id':id_list, \n",
    "                            'name':name_list, \n",
    "                            'category':category_list, \n",
    "                            'brand':brand_list, \n",
    "                            'item_link':item_link_list, \n",
    "                            'img_link':img_link_list, \n",
    "                            'price':price_list,\n",
    "                            'rating':rating_list,\n",
    "                            'review':no_review_list,\n",
    "                            'tikinow':tikinow_list})\n",
    "        return data\n",
    "    \n",
    "    def scrape_category(self,url):\n",
    "        next_url = url\n",
    "        data = self.scrape_page(next_url)\n",
    "        while True:    \n",
    "            response = requests.get(next_url)\n",
    "            try:\n",
    "                response.raise_for_status()\n",
    "            except Exception as exc:\n",
    "                print('There was a problem: %s' % (exc))\n",
    "            soup = BeautifulSoup(response.text)\n",
    "            next_url = 'https://tiki.vn'+(soup.find(class_ ='next')['href'] if soup.find(class_ ='next') else '')\n",
    "            if soup.find(class_ ='next') != None:\n",
    "                print(next_url)\n",
    "                temp_data = self.scrape_page(next_url)\n",
    "                temp_data.head()\n",
    "                data = pd.concat([data,temp_data],ignore_index = True)\n",
    "                print(data.tail(1))\n",
    "            else:\n",
    "                break\n",
    "        return data\n",
    "    def scrape_all(self):\n",
    "        pass"
   ]
  },
  {
   "cell_type": "code",
   "execution_count": 200,
   "metadata": {},
   "outputs": [],
   "source": [
    "scraper = Scraper()"
   ]
  },
  {
   "cell_type": "code",
   "execution_count": 201,
   "metadata": {},
   "outputs": [
    {
     "name": "stdout",
     "output_type": "stream",
     "text": [
      "https://tiki.vn/dien-thoai-may-tinh-bang/c1789?src=c.1789.hamburger_menu_fly_out_banner&page=2\n"
     ]
    },
    {
     "ename": "ConnectionError",
     "evalue": "HTTPSConnectionPool(host='tiki.vn', port=443): Max retries exceeded with url: /dien-thoai-may-tinh-bang/c1789?src=c.1789.hamburger_menu_fly_out_banner&page=2 (Caused by NewConnectionError('<urllib3.connection.VerifiedHTTPSConnection object at 0x0000018AD00F1A58>: Failed to establish a new connection: [WinError 10060] A connection attempt failed because the connected party did not properly respond after a period of time, or established connection failed because connected host has failed to respond'))",
     "output_type": "error",
     "traceback": [
      "\u001b[1;31m---------------------------------------------------------------------------\u001b[0m",
      "\u001b[1;31mTimeoutError\u001b[0m                              Traceback (most recent call last)",
      "\u001b[1;32mF:\\Miniconda\\envs\\cs_ftmle\\lib\\site-packages\\urllib3\\connection.py\u001b[0m in \u001b[0;36m_new_conn\u001b[1;34m(self)\u001b[0m\n\u001b[0;32m    156\u001b[0m             conn = connection.create_connection(\n\u001b[1;32m--> 157\u001b[1;33m                 \u001b[1;33m(\u001b[0m\u001b[0mself\u001b[0m\u001b[1;33m.\u001b[0m\u001b[0m_dns_host\u001b[0m\u001b[1;33m,\u001b[0m \u001b[0mself\u001b[0m\u001b[1;33m.\u001b[0m\u001b[0mport\u001b[0m\u001b[1;33m)\u001b[0m\u001b[1;33m,\u001b[0m \u001b[0mself\u001b[0m\u001b[1;33m.\u001b[0m\u001b[0mtimeout\u001b[0m\u001b[1;33m,\u001b[0m \u001b[1;33m**\u001b[0m\u001b[0mextra_kw\u001b[0m\u001b[1;33m\u001b[0m\u001b[1;33m\u001b[0m\u001b[0m\n\u001b[0m\u001b[0;32m    158\u001b[0m             )\n",
      "\u001b[1;32mF:\\Miniconda\\envs\\cs_ftmle\\lib\\site-packages\\urllib3\\util\\connection.py\u001b[0m in \u001b[0;36mcreate_connection\u001b[1;34m(address, timeout, source_address, socket_options)\u001b[0m\n\u001b[0;32m     83\u001b[0m     \u001b[1;32mif\u001b[0m \u001b[0merr\u001b[0m \u001b[1;32mis\u001b[0m \u001b[1;32mnot\u001b[0m \u001b[1;32mNone\u001b[0m\u001b[1;33m:\u001b[0m\u001b[1;33m\u001b[0m\u001b[1;33m\u001b[0m\u001b[0m\n\u001b[1;32m---> 84\u001b[1;33m         \u001b[1;32mraise\u001b[0m \u001b[0merr\u001b[0m\u001b[1;33m\u001b[0m\u001b[1;33m\u001b[0m\u001b[0m\n\u001b[0m\u001b[0;32m     85\u001b[0m \u001b[1;33m\u001b[0m\u001b[0m\n",
      "\u001b[1;32mF:\\Miniconda\\envs\\cs_ftmle\\lib\\site-packages\\urllib3\\util\\connection.py\u001b[0m in \u001b[0;36mcreate_connection\u001b[1;34m(address, timeout, source_address, socket_options)\u001b[0m\n\u001b[0;32m     73\u001b[0m                 \u001b[0msock\u001b[0m\u001b[1;33m.\u001b[0m\u001b[0mbind\u001b[0m\u001b[1;33m(\u001b[0m\u001b[0msource_address\u001b[0m\u001b[1;33m)\u001b[0m\u001b[1;33m\u001b[0m\u001b[1;33m\u001b[0m\u001b[0m\n\u001b[1;32m---> 74\u001b[1;33m             \u001b[0msock\u001b[0m\u001b[1;33m.\u001b[0m\u001b[0mconnect\u001b[0m\u001b[1;33m(\u001b[0m\u001b[0msa\u001b[0m\u001b[1;33m)\u001b[0m\u001b[1;33m\u001b[0m\u001b[1;33m\u001b[0m\u001b[0m\n\u001b[0m\u001b[0;32m     75\u001b[0m             \u001b[1;32mreturn\u001b[0m \u001b[0msock\u001b[0m\u001b[1;33m\u001b[0m\u001b[1;33m\u001b[0m\u001b[0m\n",
      "\u001b[1;31mTimeoutError\u001b[0m: [WinError 10060] A connection attempt failed because the connected party did not properly respond after a period of time, or established connection failed because connected host has failed to respond",
      "\nDuring handling of the above exception, another exception occurred:\n",
      "\u001b[1;31mNewConnectionError\u001b[0m                        Traceback (most recent call last)",
      "\u001b[1;32mF:\\Miniconda\\envs\\cs_ftmle\\lib\\site-packages\\urllib3\\connectionpool.py\u001b[0m in \u001b[0;36murlopen\u001b[1;34m(self, method, url, body, headers, retries, redirect, assert_same_host, timeout, pool_timeout, release_conn, chunked, body_pos, **response_kw)\u001b[0m\n\u001b[0;32m    671\u001b[0m                 \u001b[0mheaders\u001b[0m\u001b[1;33m=\u001b[0m\u001b[0mheaders\u001b[0m\u001b[1;33m,\u001b[0m\u001b[1;33m\u001b[0m\u001b[1;33m\u001b[0m\u001b[0m\n\u001b[1;32m--> 672\u001b[1;33m                 \u001b[0mchunked\u001b[0m\u001b[1;33m=\u001b[0m\u001b[0mchunked\u001b[0m\u001b[1;33m,\u001b[0m\u001b[1;33m\u001b[0m\u001b[1;33m\u001b[0m\u001b[0m\n\u001b[0m\u001b[0;32m    673\u001b[0m             )\n",
      "\u001b[1;32mF:\\Miniconda\\envs\\cs_ftmle\\lib\\site-packages\\urllib3\\connectionpool.py\u001b[0m in \u001b[0;36m_make_request\u001b[1;34m(self, conn, method, url, timeout, chunked, **httplib_request_kw)\u001b[0m\n\u001b[0;32m    375\u001b[0m         \u001b[1;32mtry\u001b[0m\u001b[1;33m:\u001b[0m\u001b[1;33m\u001b[0m\u001b[1;33m\u001b[0m\u001b[0m\n\u001b[1;32m--> 376\u001b[1;33m             \u001b[0mself\u001b[0m\u001b[1;33m.\u001b[0m\u001b[0m_validate_conn\u001b[0m\u001b[1;33m(\u001b[0m\u001b[0mconn\u001b[0m\u001b[1;33m)\u001b[0m\u001b[1;33m\u001b[0m\u001b[1;33m\u001b[0m\u001b[0m\n\u001b[0m\u001b[0;32m    377\u001b[0m         \u001b[1;32mexcept\u001b[0m \u001b[1;33m(\u001b[0m\u001b[0mSocketTimeout\u001b[0m\u001b[1;33m,\u001b[0m \u001b[0mBaseSSLError\u001b[0m\u001b[1;33m)\u001b[0m \u001b[1;32mas\u001b[0m \u001b[0me\u001b[0m\u001b[1;33m:\u001b[0m\u001b[1;33m\u001b[0m\u001b[1;33m\u001b[0m\u001b[0m\n",
      "\u001b[1;32mF:\\Miniconda\\envs\\cs_ftmle\\lib\\site-packages\\urllib3\\connectionpool.py\u001b[0m in \u001b[0;36m_validate_conn\u001b[1;34m(self, conn)\u001b[0m\n\u001b[0;32m    993\u001b[0m         \u001b[1;32mif\u001b[0m \u001b[1;32mnot\u001b[0m \u001b[0mgetattr\u001b[0m\u001b[1;33m(\u001b[0m\u001b[0mconn\u001b[0m\u001b[1;33m,\u001b[0m \u001b[1;34m\"sock\"\u001b[0m\u001b[1;33m,\u001b[0m \u001b[1;32mNone\u001b[0m\u001b[1;33m)\u001b[0m\u001b[1;33m:\u001b[0m  \u001b[1;31m# AppEngine might not have  `.sock`\u001b[0m\u001b[1;33m\u001b[0m\u001b[1;33m\u001b[0m\u001b[0m\n\u001b[1;32m--> 994\u001b[1;33m             \u001b[0mconn\u001b[0m\u001b[1;33m.\u001b[0m\u001b[0mconnect\u001b[0m\u001b[1;33m(\u001b[0m\u001b[1;33m)\u001b[0m\u001b[1;33m\u001b[0m\u001b[1;33m\u001b[0m\u001b[0m\n\u001b[0m\u001b[0;32m    995\u001b[0m \u001b[1;33m\u001b[0m\u001b[0m\n",
      "\u001b[1;32mF:\\Miniconda\\envs\\cs_ftmle\\lib\\site-packages\\urllib3\\connection.py\u001b[0m in \u001b[0;36mconnect\u001b[1;34m(self)\u001b[0m\n\u001b[0;32m    333\u001b[0m         \u001b[1;31m# Add certificate verification\u001b[0m\u001b[1;33m\u001b[0m\u001b[1;33m\u001b[0m\u001b[1;33m\u001b[0m\u001b[0m\n\u001b[1;32m--> 334\u001b[1;33m         \u001b[0mconn\u001b[0m \u001b[1;33m=\u001b[0m \u001b[0mself\u001b[0m\u001b[1;33m.\u001b[0m\u001b[0m_new_conn\u001b[0m\u001b[1;33m(\u001b[0m\u001b[1;33m)\u001b[0m\u001b[1;33m\u001b[0m\u001b[1;33m\u001b[0m\u001b[0m\n\u001b[0m\u001b[0;32m    335\u001b[0m         \u001b[0mhostname\u001b[0m \u001b[1;33m=\u001b[0m \u001b[0mself\u001b[0m\u001b[1;33m.\u001b[0m\u001b[0mhost\u001b[0m\u001b[1;33m\u001b[0m\u001b[1;33m\u001b[0m\u001b[0m\n",
      "\u001b[1;32mF:\\Miniconda\\envs\\cs_ftmle\\lib\\site-packages\\urllib3\\connection.py\u001b[0m in \u001b[0;36m_new_conn\u001b[1;34m(self)\u001b[0m\n\u001b[0;32m    168\u001b[0m             raise NewConnectionError(\n\u001b[1;32m--> 169\u001b[1;33m                 \u001b[0mself\u001b[0m\u001b[1;33m,\u001b[0m \u001b[1;34m\"Failed to establish a new connection: %s\"\u001b[0m \u001b[1;33m%\u001b[0m \u001b[0me\u001b[0m\u001b[1;33m\u001b[0m\u001b[1;33m\u001b[0m\u001b[0m\n\u001b[0m\u001b[0;32m    170\u001b[0m             )\n",
      "\u001b[1;31mNewConnectionError\u001b[0m: <urllib3.connection.VerifiedHTTPSConnection object at 0x0000018AD00F1A58>: Failed to establish a new connection: [WinError 10060] A connection attempt failed because the connected party did not properly respond after a period of time, or established connection failed because connected host has failed to respond",
      "\nDuring handling of the above exception, another exception occurred:\n",
      "\u001b[1;31mMaxRetryError\u001b[0m                             Traceback (most recent call last)",
      "\u001b[1;32mF:\\Miniconda\\envs\\cs_ftmle\\lib\\site-packages\\requests\\adapters.py\u001b[0m in \u001b[0;36msend\u001b[1;34m(self, request, stream, timeout, verify, cert, proxies)\u001b[0m\n\u001b[0;32m    448\u001b[0m                     \u001b[0mretries\u001b[0m\u001b[1;33m=\u001b[0m\u001b[0mself\u001b[0m\u001b[1;33m.\u001b[0m\u001b[0mmax_retries\u001b[0m\u001b[1;33m,\u001b[0m\u001b[1;33m\u001b[0m\u001b[1;33m\u001b[0m\u001b[0m\n\u001b[1;32m--> 449\u001b[1;33m                     \u001b[0mtimeout\u001b[0m\u001b[1;33m=\u001b[0m\u001b[0mtimeout\u001b[0m\u001b[1;33m\u001b[0m\u001b[1;33m\u001b[0m\u001b[0m\n\u001b[0m\u001b[0;32m    450\u001b[0m                 )\n",
      "\u001b[1;32mF:\\Miniconda\\envs\\cs_ftmle\\lib\\site-packages\\urllib3\\connectionpool.py\u001b[0m in \u001b[0;36murlopen\u001b[1;34m(self, method, url, body, headers, retries, redirect, assert_same_host, timeout, pool_timeout, release_conn, chunked, body_pos, **response_kw)\u001b[0m\n\u001b[0;32m    719\u001b[0m             retries = retries.increment(\n\u001b[1;32m--> 720\u001b[1;33m                 \u001b[0mmethod\u001b[0m\u001b[1;33m,\u001b[0m \u001b[0murl\u001b[0m\u001b[1;33m,\u001b[0m \u001b[0merror\u001b[0m\u001b[1;33m=\u001b[0m\u001b[0me\u001b[0m\u001b[1;33m,\u001b[0m \u001b[0m_pool\u001b[0m\u001b[1;33m=\u001b[0m\u001b[0mself\u001b[0m\u001b[1;33m,\u001b[0m \u001b[0m_stacktrace\u001b[0m\u001b[1;33m=\u001b[0m\u001b[0msys\u001b[0m\u001b[1;33m.\u001b[0m\u001b[0mexc_info\u001b[0m\u001b[1;33m(\u001b[0m\u001b[1;33m)\u001b[0m\u001b[1;33m[\u001b[0m\u001b[1;36m2\u001b[0m\u001b[1;33m]\u001b[0m\u001b[1;33m\u001b[0m\u001b[1;33m\u001b[0m\u001b[0m\n\u001b[0m\u001b[0;32m    721\u001b[0m             )\n",
      "\u001b[1;32mF:\\Miniconda\\envs\\cs_ftmle\\lib\\site-packages\\urllib3\\util\\retry.py\u001b[0m in \u001b[0;36mincrement\u001b[1;34m(self, method, url, response, error, _pool, _stacktrace)\u001b[0m\n\u001b[0;32m    435\u001b[0m         \u001b[1;32mif\u001b[0m \u001b[0mnew_retry\u001b[0m\u001b[1;33m.\u001b[0m\u001b[0mis_exhausted\u001b[0m\u001b[1;33m(\u001b[0m\u001b[1;33m)\u001b[0m\u001b[1;33m:\u001b[0m\u001b[1;33m\u001b[0m\u001b[1;33m\u001b[0m\u001b[0m\n\u001b[1;32m--> 436\u001b[1;33m             \u001b[1;32mraise\u001b[0m \u001b[0mMaxRetryError\u001b[0m\u001b[1;33m(\u001b[0m\u001b[0m_pool\u001b[0m\u001b[1;33m,\u001b[0m \u001b[0murl\u001b[0m\u001b[1;33m,\u001b[0m \u001b[0merror\u001b[0m \u001b[1;32mor\u001b[0m \u001b[0mResponseError\u001b[0m\u001b[1;33m(\u001b[0m\u001b[0mcause\u001b[0m\u001b[1;33m)\u001b[0m\u001b[1;33m)\u001b[0m\u001b[1;33m\u001b[0m\u001b[1;33m\u001b[0m\u001b[0m\n\u001b[0m\u001b[0;32m    437\u001b[0m \u001b[1;33m\u001b[0m\u001b[0m\n",
      "\u001b[1;31mMaxRetryError\u001b[0m: HTTPSConnectionPool(host='tiki.vn', port=443): Max retries exceeded with url: /dien-thoai-may-tinh-bang/c1789?src=c.1789.hamburger_menu_fly_out_banner&page=2 (Caused by NewConnectionError('<urllib3.connection.VerifiedHTTPSConnection object at 0x0000018AD00F1A58>: Failed to establish a new connection: [WinError 10060] A connection attempt failed because the connected party did not properly respond after a period of time, or established connection failed because connected host has failed to respond'))",
      "\nDuring handling of the above exception, another exception occurred:\n",
      "\u001b[1;31mConnectionError\u001b[0m                           Traceback (most recent call last)",
      "\u001b[1;32m<ipython-input-201-8bc68db6e5c7>\u001b[0m in \u001b[0;36m<module>\u001b[1;34m\u001b[0m\n\u001b[1;32m----> 1\u001b[1;33m \u001b[0mscraper\u001b[0m\u001b[1;33m.\u001b[0m\u001b[0mscrape_category\u001b[0m\u001b[1;33m(\u001b[0m\u001b[1;34m'https://tiki.vn/dien-thoai-may-tinh-bang/c1789?src=c.1789.hamburger_menu_fly_out_banner'\u001b[0m\u001b[1;33m)\u001b[0m\u001b[1;33m\u001b[0m\u001b[1;33m\u001b[0m\u001b[0m\n\u001b[0m",
      "\u001b[1;32m<ipython-input-199-e81b964a67cd>\u001b[0m in \u001b[0;36mscrape_category\u001b[1;34m(self, url)\u001b[0m\n\u001b[0;32m     44\u001b[0m             \u001b[1;32mif\u001b[0m \u001b[0msoup\u001b[0m\u001b[1;33m.\u001b[0m\u001b[0mfind\u001b[0m\u001b[1;33m(\u001b[0m\u001b[0mclass_\u001b[0m \u001b[1;33m=\u001b[0m\u001b[1;34m'next'\u001b[0m\u001b[1;33m)\u001b[0m \u001b[1;33m!=\u001b[0m \u001b[1;32mNone\u001b[0m\u001b[1;33m:\u001b[0m\u001b[1;33m\u001b[0m\u001b[1;33m\u001b[0m\u001b[0m\n\u001b[0;32m     45\u001b[0m                 \u001b[0mprint\u001b[0m\u001b[1;33m(\u001b[0m\u001b[0mnext_url\u001b[0m\u001b[1;33m)\u001b[0m\u001b[1;33m\u001b[0m\u001b[1;33m\u001b[0m\u001b[0m\n\u001b[1;32m---> 46\u001b[1;33m                 \u001b[0mtemp_data\u001b[0m \u001b[1;33m=\u001b[0m \u001b[0mself\u001b[0m\u001b[1;33m.\u001b[0m\u001b[0mscrape_page\u001b[0m\u001b[1;33m(\u001b[0m\u001b[0mnext_url\u001b[0m\u001b[1;33m)\u001b[0m\u001b[1;33m\u001b[0m\u001b[1;33m\u001b[0m\u001b[0m\n\u001b[0m\u001b[0;32m     47\u001b[0m                 \u001b[0mtemp_data\u001b[0m\u001b[1;33m.\u001b[0m\u001b[0mhead\u001b[0m\u001b[1;33m(\u001b[0m\u001b[1;33m)\u001b[0m\u001b[1;33m\u001b[0m\u001b[1;33m\u001b[0m\u001b[0m\n\u001b[0;32m     48\u001b[0m                 \u001b[0mdata\u001b[0m \u001b[1;33m=\u001b[0m \u001b[0mpd\u001b[0m\u001b[1;33m.\u001b[0m\u001b[0mconcat\u001b[0m\u001b[1;33m(\u001b[0m\u001b[1;33m[\u001b[0m\u001b[0mdata\u001b[0m\u001b[1;33m,\u001b[0m\u001b[0mtemp_data\u001b[0m\u001b[1;33m]\u001b[0m\u001b[1;33m,\u001b[0m\u001b[0mignore_index\u001b[0m \u001b[1;33m=\u001b[0m \u001b[1;32mTrue\u001b[0m\u001b[1;33m)\u001b[0m\u001b[1;33m\u001b[0m\u001b[1;33m\u001b[0m\u001b[0m\n",
      "\u001b[1;32m<ipython-input-199-e81b964a67cd>\u001b[0m in \u001b[0;36mscrape_page\u001b[1;34m(self, url)\u001b[0m\n\u001b[0;32m      4\u001b[0m \u001b[1;32mclass\u001b[0m \u001b[0mScraper\u001b[0m\u001b[1;33m(\u001b[0m\u001b[1;33m)\u001b[0m\u001b[1;33m:\u001b[0m\u001b[1;33m\u001b[0m\u001b[1;33m\u001b[0m\u001b[0m\n\u001b[0;32m      5\u001b[0m     \u001b[1;32mdef\u001b[0m \u001b[0mscrape_page\u001b[0m\u001b[1;33m(\u001b[0m\u001b[0mself\u001b[0m\u001b[1;33m,\u001b[0m\u001b[0murl\u001b[0m\u001b[1;33m)\u001b[0m\u001b[1;33m:\u001b[0m\u001b[1;33m\u001b[0m\u001b[1;33m\u001b[0m\u001b[0m\n\u001b[1;32m----> 6\u001b[1;33m         \u001b[0mresponse\u001b[0m \u001b[1;33m=\u001b[0m \u001b[0mrequests\u001b[0m\u001b[1;33m.\u001b[0m\u001b[0mget\u001b[0m\u001b[1;33m(\u001b[0m\u001b[0murl\u001b[0m\u001b[1;33m)\u001b[0m\u001b[1;33m\u001b[0m\u001b[1;33m\u001b[0m\u001b[0m\n\u001b[0m\u001b[0;32m      7\u001b[0m         \u001b[1;32mtry\u001b[0m\u001b[1;33m:\u001b[0m\u001b[1;33m\u001b[0m\u001b[1;33m\u001b[0m\u001b[0m\n\u001b[0;32m      8\u001b[0m             \u001b[0mresponse\u001b[0m\u001b[1;33m.\u001b[0m\u001b[0mraise_for_status\u001b[0m\u001b[1;33m(\u001b[0m\u001b[1;33m)\u001b[0m\u001b[1;33m\u001b[0m\u001b[1;33m\u001b[0m\u001b[0m\n",
      "\u001b[1;32mF:\\Miniconda\\envs\\cs_ftmle\\lib\\site-packages\\requests\\api.py\u001b[0m in \u001b[0;36mget\u001b[1;34m(url, params, **kwargs)\u001b[0m\n\u001b[0;32m     73\u001b[0m \u001b[1;33m\u001b[0m\u001b[0m\n\u001b[0;32m     74\u001b[0m     \u001b[0mkwargs\u001b[0m\u001b[1;33m.\u001b[0m\u001b[0msetdefault\u001b[0m\u001b[1;33m(\u001b[0m\u001b[1;34m'allow_redirects'\u001b[0m\u001b[1;33m,\u001b[0m \u001b[1;32mTrue\u001b[0m\u001b[1;33m)\u001b[0m\u001b[1;33m\u001b[0m\u001b[1;33m\u001b[0m\u001b[0m\n\u001b[1;32m---> 75\u001b[1;33m     \u001b[1;32mreturn\u001b[0m \u001b[0mrequest\u001b[0m\u001b[1;33m(\u001b[0m\u001b[1;34m'get'\u001b[0m\u001b[1;33m,\u001b[0m \u001b[0murl\u001b[0m\u001b[1;33m,\u001b[0m \u001b[0mparams\u001b[0m\u001b[1;33m=\u001b[0m\u001b[0mparams\u001b[0m\u001b[1;33m,\u001b[0m \u001b[1;33m**\u001b[0m\u001b[0mkwargs\u001b[0m\u001b[1;33m)\u001b[0m\u001b[1;33m\u001b[0m\u001b[1;33m\u001b[0m\u001b[0m\n\u001b[0m\u001b[0;32m     76\u001b[0m \u001b[1;33m\u001b[0m\u001b[0m\n\u001b[0;32m     77\u001b[0m \u001b[1;33m\u001b[0m\u001b[0m\n",
      "\u001b[1;32mF:\\Miniconda\\envs\\cs_ftmle\\lib\\site-packages\\requests\\api.py\u001b[0m in \u001b[0;36mrequest\u001b[1;34m(method, url, **kwargs)\u001b[0m\n\u001b[0;32m     58\u001b[0m     \u001b[1;31m# cases, and look like a memory leak in others.\u001b[0m\u001b[1;33m\u001b[0m\u001b[1;33m\u001b[0m\u001b[1;33m\u001b[0m\u001b[0m\n\u001b[0;32m     59\u001b[0m     \u001b[1;32mwith\u001b[0m \u001b[0msessions\u001b[0m\u001b[1;33m.\u001b[0m\u001b[0mSession\u001b[0m\u001b[1;33m(\u001b[0m\u001b[1;33m)\u001b[0m \u001b[1;32mas\u001b[0m \u001b[0msession\u001b[0m\u001b[1;33m:\u001b[0m\u001b[1;33m\u001b[0m\u001b[1;33m\u001b[0m\u001b[0m\n\u001b[1;32m---> 60\u001b[1;33m         \u001b[1;32mreturn\u001b[0m \u001b[0msession\u001b[0m\u001b[1;33m.\u001b[0m\u001b[0mrequest\u001b[0m\u001b[1;33m(\u001b[0m\u001b[0mmethod\u001b[0m\u001b[1;33m=\u001b[0m\u001b[0mmethod\u001b[0m\u001b[1;33m,\u001b[0m \u001b[0murl\u001b[0m\u001b[1;33m=\u001b[0m\u001b[0murl\u001b[0m\u001b[1;33m,\u001b[0m \u001b[1;33m**\u001b[0m\u001b[0mkwargs\u001b[0m\u001b[1;33m)\u001b[0m\u001b[1;33m\u001b[0m\u001b[1;33m\u001b[0m\u001b[0m\n\u001b[0m\u001b[0;32m     61\u001b[0m \u001b[1;33m\u001b[0m\u001b[0m\n\u001b[0;32m     62\u001b[0m \u001b[1;33m\u001b[0m\u001b[0m\n",
      "\u001b[1;32mF:\\Miniconda\\envs\\cs_ftmle\\lib\\site-packages\\requests\\sessions.py\u001b[0m in \u001b[0;36mrequest\u001b[1;34m(self, method, url, params, data, headers, cookies, files, auth, timeout, allow_redirects, proxies, hooks, stream, verify, cert, json)\u001b[0m\n\u001b[0;32m    531\u001b[0m         }\n\u001b[0;32m    532\u001b[0m         \u001b[0msend_kwargs\u001b[0m\u001b[1;33m.\u001b[0m\u001b[0mupdate\u001b[0m\u001b[1;33m(\u001b[0m\u001b[0msettings\u001b[0m\u001b[1;33m)\u001b[0m\u001b[1;33m\u001b[0m\u001b[1;33m\u001b[0m\u001b[0m\n\u001b[1;32m--> 533\u001b[1;33m         \u001b[0mresp\u001b[0m \u001b[1;33m=\u001b[0m \u001b[0mself\u001b[0m\u001b[1;33m.\u001b[0m\u001b[0msend\u001b[0m\u001b[1;33m(\u001b[0m\u001b[0mprep\u001b[0m\u001b[1;33m,\u001b[0m \u001b[1;33m**\u001b[0m\u001b[0msend_kwargs\u001b[0m\u001b[1;33m)\u001b[0m\u001b[1;33m\u001b[0m\u001b[1;33m\u001b[0m\u001b[0m\n\u001b[0m\u001b[0;32m    534\u001b[0m \u001b[1;33m\u001b[0m\u001b[0m\n\u001b[0;32m    535\u001b[0m         \u001b[1;32mreturn\u001b[0m \u001b[0mresp\u001b[0m\u001b[1;33m\u001b[0m\u001b[1;33m\u001b[0m\u001b[0m\n",
      "\u001b[1;32mF:\\Miniconda\\envs\\cs_ftmle\\lib\\site-packages\\requests\\sessions.py\u001b[0m in \u001b[0;36msend\u001b[1;34m(self, request, **kwargs)\u001b[0m\n\u001b[0;32m    644\u001b[0m \u001b[1;33m\u001b[0m\u001b[0m\n\u001b[0;32m    645\u001b[0m         \u001b[1;31m# Send the request\u001b[0m\u001b[1;33m\u001b[0m\u001b[1;33m\u001b[0m\u001b[1;33m\u001b[0m\u001b[0m\n\u001b[1;32m--> 646\u001b[1;33m         \u001b[0mr\u001b[0m \u001b[1;33m=\u001b[0m \u001b[0madapter\u001b[0m\u001b[1;33m.\u001b[0m\u001b[0msend\u001b[0m\u001b[1;33m(\u001b[0m\u001b[0mrequest\u001b[0m\u001b[1;33m,\u001b[0m \u001b[1;33m**\u001b[0m\u001b[0mkwargs\u001b[0m\u001b[1;33m)\u001b[0m\u001b[1;33m\u001b[0m\u001b[1;33m\u001b[0m\u001b[0m\n\u001b[0m\u001b[0;32m    647\u001b[0m \u001b[1;33m\u001b[0m\u001b[0m\n\u001b[0;32m    648\u001b[0m         \u001b[1;31m# Total elapsed time of the request (approximately)\u001b[0m\u001b[1;33m\u001b[0m\u001b[1;33m\u001b[0m\u001b[1;33m\u001b[0m\u001b[0m\n",
      "\u001b[1;32mF:\\Miniconda\\envs\\cs_ftmle\\lib\\site-packages\\requests\\adapters.py\u001b[0m in \u001b[0;36msend\u001b[1;34m(self, request, stream, timeout, verify, cert, proxies)\u001b[0m\n\u001b[0;32m    514\u001b[0m                 \u001b[1;32mraise\u001b[0m \u001b[0mSSLError\u001b[0m\u001b[1;33m(\u001b[0m\u001b[0me\u001b[0m\u001b[1;33m,\u001b[0m \u001b[0mrequest\u001b[0m\u001b[1;33m=\u001b[0m\u001b[0mrequest\u001b[0m\u001b[1;33m)\u001b[0m\u001b[1;33m\u001b[0m\u001b[1;33m\u001b[0m\u001b[0m\n\u001b[0;32m    515\u001b[0m \u001b[1;33m\u001b[0m\u001b[0m\n\u001b[1;32m--> 516\u001b[1;33m             \u001b[1;32mraise\u001b[0m \u001b[0mConnectionError\u001b[0m\u001b[1;33m(\u001b[0m\u001b[0me\u001b[0m\u001b[1;33m,\u001b[0m \u001b[0mrequest\u001b[0m\u001b[1;33m=\u001b[0m\u001b[0mrequest\u001b[0m\u001b[1;33m)\u001b[0m\u001b[1;33m\u001b[0m\u001b[1;33m\u001b[0m\u001b[0m\n\u001b[0m\u001b[0;32m    517\u001b[0m \u001b[1;33m\u001b[0m\u001b[0m\n\u001b[0;32m    518\u001b[0m         \u001b[1;32mexcept\u001b[0m \u001b[0mClosedPoolError\u001b[0m \u001b[1;32mas\u001b[0m \u001b[0me\u001b[0m\u001b[1;33m:\u001b[0m\u001b[1;33m\u001b[0m\u001b[1;33m\u001b[0m\u001b[0m\n",
      "\u001b[1;31mConnectionError\u001b[0m: HTTPSConnectionPool(host='tiki.vn', port=443): Max retries exceeded with url: /dien-thoai-may-tinh-bang/c1789?src=c.1789.hamburger_menu_fly_out_banner&page=2 (Caused by NewConnectionError('<urllib3.connection.VerifiedHTTPSConnection object at 0x0000018AD00F1A58>: Failed to establish a new connection: [WinError 10060] A connection attempt failed because the connected party did not properly respond after a period of time, or established connection failed because connected host has failed to respond'))"
     ]
    }
   ],
   "source": [
    "scraper.scrape_category('https://tiki.vn/dien-thoai-may-tinh-bang/c1789?src=c.1789.hamburger_menu_fly_out_banner')"
   ]
  },
  {
   "cell_type": "code",
   "execution_count": 175,
   "metadata": {},
   "outputs": [
    {
     "name": "stdout",
     "output_type": "stream",
     "text": [
      "https://tiki.vn/dien-thoai-may-tinh-bang/c1789?src=c.1789.hamburger_menu_fly_out_banner&page=4\n"
     ]
    }
   ],
   "source": [
    "response = requests.get('https://tiki.vn/dien-thoai-may-tinh-bang/c1789?src=c.1789.hamburger_menu_fly_out_banner&page=3')\n",
    "soup = BeautifulSoup(response.text)\n",
    "next_url = 'https://tiki.vn'+soup.find(class_ ='next')['href']\n",
    "print(next_url)"
   ]
  },
  {
   "cell_type": "code",
   "execution_count": 139,
   "metadata": {},
   "outputs": [
    {
     "ename": "AttributeError",
     "evalue": "'NoneType' object has no attribute 'span'",
     "output_type": "error",
     "traceback": [
      "\u001b[1;31m---------------------------------------------------------------------------\u001b[0m",
      "\u001b[1;31mAttributeError\u001b[0m                            Traceback (most recent call last)",
      "\u001b[1;32m<ipython-input-139-e0c608bff2ab>\u001b[0m in \u001b[0;36m<module>\u001b[1;34m\u001b[0m\n\u001b[1;32m----> 1\u001b[1;33m \u001b[0mscraper\u001b[0m\u001b[1;33m.\u001b[0m\u001b[0mscrape_page\u001b[0m\u001b[1;33m(\u001b[0m\u001b[1;34m'https://tiki.vn/dien-tu-dien-lanh/c4221?src=c.4221.hamburger_menu_fly_out_banner&page=5'\u001b[0m\u001b[1;33m)\u001b[0m\u001b[1;33m.\u001b[0m\u001b[0mhead\u001b[0m\u001b[1;33m(\u001b[0m\u001b[1;33m)\u001b[0m\u001b[1;33m\u001b[0m\u001b[1;33m\u001b[0m\u001b[0m\n\u001b[0m",
      "\u001b[1;32m<ipython-input-134-969390ee8d3e>\u001b[0m in \u001b[0;36mscrape_page\u001b[1;34m(self, url)\u001b[0m\n\u001b[0;32m     16\u001b[0m             \u001b[0mimg_link_list\u001b[0m\u001b[1;33m.\u001b[0m\u001b[0mappend\u001b[0m\u001b[1;33m(\u001b[0m\u001b[0mitem\u001b[0m\u001b[1;33m.\u001b[0m\u001b[0mimg\u001b[0m\u001b[1;33m[\u001b[0m\u001b[1;34m'src'\u001b[0m\u001b[1;33m]\u001b[0m\u001b[1;33m)\u001b[0m\u001b[1;33m\u001b[0m\u001b[1;33m\u001b[0m\u001b[0m\n\u001b[0;32m     17\u001b[0m             \u001b[0mitem_link_list\u001b[0m\u001b[1;33m.\u001b[0m\u001b[0mappend\u001b[0m\u001b[1;33m(\u001b[0m\u001b[0mitem\u001b[0m\u001b[1;33m.\u001b[0m\u001b[0ma\u001b[0m\u001b[1;33m[\u001b[0m\u001b[1;34m'href'\u001b[0m\u001b[1;33m]\u001b[0m\u001b[1;33m)\u001b[0m\u001b[1;33m\u001b[0m\u001b[1;33m\u001b[0m\u001b[0m\n\u001b[1;32m---> 18\u001b[1;33m             \u001b[0mrating_list\u001b[0m\u001b[1;33m.\u001b[0m\u001b[0mappend\u001b[0m\u001b[1;33m(\u001b[0m\u001b[0mitem\u001b[0m\u001b[1;33m.\u001b[0m\u001b[0mfind\u001b[0m\u001b[1;33m(\u001b[0m\u001b[1;34m'span'\u001b[0m\u001b[1;33m,\u001b[0m \u001b[0mclass_\u001b[0m\u001b[1;33m=\u001b[0m\u001b[1;34m'rating-content'\u001b[0m\u001b[1;33m)\u001b[0m\u001b[1;33m.\u001b[0m\u001b[0mspan\u001b[0m\u001b[1;33m[\u001b[0m\u001b[1;34m'style'\u001b[0m\u001b[1;33m]\u001b[0m\u001b[1;33m[\u001b[0m\u001b[1;33m-\u001b[0m\u001b[1;36m4\u001b[0m\u001b[1;33m:\u001b[0m\u001b[1;33m]\u001b[0m\u001b[1;33m.\u001b[0m\u001b[0mstrip\u001b[0m\u001b[1;33m(\u001b[0m\u001b[1;34m' %:'\u001b[0m\u001b[1;33m)\u001b[0m\u001b[1;33m)\u001b[0m\u001b[1;33m\u001b[0m\u001b[1;33m\u001b[0m\u001b[0m\n\u001b[0m\u001b[0;32m     19\u001b[0m             \u001b[0mno_review_list\u001b[0m\u001b[1;33m.\u001b[0m\u001b[0mappend\u001b[0m\u001b[1;33m(\u001b[0m\u001b[0mitem\u001b[0m\u001b[1;33m.\u001b[0m\u001b[0mfind\u001b[0m\u001b[1;33m(\u001b[0m\u001b[1;34m'p'\u001b[0m\u001b[1;33m,\u001b[0m \u001b[0mclass_\u001b[0m\u001b[1;33m=\u001b[0m\u001b[1;34m'review'\u001b[0m\u001b[1;33m)\u001b[0m\u001b[1;33m.\u001b[0m\u001b[0mtext\u001b[0m\u001b[1;33m.\u001b[0m\u001b[0msplit\u001b[0m\u001b[1;33m(\u001b[0m\u001b[1;33m)\u001b[0m\u001b[1;33m[\u001b[0m\u001b[1;36m0\u001b[0m\u001b[1;33m]\u001b[0m\u001b[1;33m.\u001b[0m\u001b[0mstrip\u001b[0m\u001b[1;33m(\u001b[0m\u001b[1;34m'()'\u001b[0m\u001b[1;33m)\u001b[0m\u001b[1;33m)\u001b[0m\u001b[1;33m\u001b[0m\u001b[1;33m\u001b[0m\u001b[0m\n\u001b[0;32m     20\u001b[0m             \u001b[0mtikinow_list\u001b[0m\u001b[1;33m.\u001b[0m\u001b[0mappend\u001b[0m\u001b[1;33m(\u001b[0m\u001b[1;36m1\u001b[0m \u001b[1;32mif\u001b[0m \u001b[0mitem\u001b[0m\u001b[1;33m.\u001b[0m\u001b[0mfind\u001b[0m\u001b[1;33m(\u001b[0m\u001b[1;34m'i'\u001b[0m\u001b[1;33m,\u001b[0m \u001b[0mclass_\u001b[0m\u001b[1;33m=\u001b[0m\u001b[1;34m'tikicon icon-tikinow'\u001b[0m\u001b[1;33m)\u001b[0m \u001b[1;32melse\u001b[0m \u001b[1;36m0\u001b[0m\u001b[1;33m)\u001b[0m\u001b[1;33m\u001b[0m\u001b[1;33m\u001b[0m\u001b[0m\n",
      "\u001b[1;31mAttributeError\u001b[0m: 'NoneType' object has no attribute 'span'"
     ]
    }
   ],
   "source": [
    "scraper.scrape_page('https://tiki.vn/dien-tu-dien-lanh/c4221?src=c.4221.hamburger_menu_fly_out_banner&page=5').head()"
   ]
  },
  {
   "cell_type": "code",
   "execution_count": 142,
   "metadata": {},
   "outputs": [
    {
     "data": {
      "text/html": [
       "<div>\n",
       "<style scoped>\n",
       "    .dataframe tbody tr th:only-of-type {\n",
       "        vertical-align: middle;\n",
       "    }\n",
       "\n",
       "    .dataframe tbody tr th {\n",
       "        vertical-align: top;\n",
       "    }\n",
       "\n",
       "    .dataframe thead th {\n",
       "        text-align: right;\n",
       "    }\n",
       "</style>\n",
       "<table border=\"1\" class=\"dataframe\">\n",
       "  <thead>\n",
       "    <tr style=\"text-align: right;\">\n",
       "      <th></th>\n",
       "      <th>id</th>\n",
       "      <th>name</th>\n",
       "      <th>category</th>\n",
       "      <th>brand</th>\n",
       "      <th>item_link</th>\n",
       "      <th>img_link</th>\n",
       "      <th>price</th>\n",
       "      <th>rating</th>\n",
       "      <th>review</th>\n",
       "      <th>tikinow</th>\n",
       "    </tr>\n",
       "  </thead>\n",
       "  <tbody>\n",
       "    <tr>\n",
       "      <th>0</th>\n",
       "      <td>3717703</td>\n",
       "      <td>Điện Thoại Di Động GSM ZONO N8110 2.4inch - Hà...</td>\n",
       "      <td>Điện Thoại - Máy Tính Bảng/Điện thoại phổ thông</td>\n",
       "      <td>Zono</td>\n",
       "      <td>https://tiki.vn/dien-thoai-di-dong-gsm-zono-n8...</td>\n",
       "      <td>https://salt.tikicdn.com/cache/200x200/ts/prod...</td>\n",
       "      <td>209000</td>\n",
       "      <td>57</td>\n",
       "      <td>15</td>\n",
       "      <td>1</td>\n",
       "    </tr>\n",
       "    <tr>\n",
       "      <th>1</th>\n",
       "      <td>11508168</td>\n",
       "      <td>Điện Thoại Samsung Galaxy A50 (64GB/4GB) - Hàn...</td>\n",
       "      <td>Điện Thoại - Máy Tính Bảng/Điện thoại Smartphone</td>\n",
       "      <td>Samsung</td>\n",
       "      <td>https://tiki.vn/dien-thoai-samsung-galaxy-a50-...</td>\n",
       "      <td>https://salt.tikicdn.com/cache/200x200/ts/prod...</td>\n",
       "      <td>4990000</td>\n",
       "      <td>90</td>\n",
       "      <td>179</td>\n",
       "      <td>1</td>\n",
       "    </tr>\n",
       "    <tr>\n",
       "      <th>2</th>\n",
       "      <td>12298404</td>\n",
       "      <td>Xiaomi Redmi Note 7 Pro 128GB Ram 6GB - Hàng N...</td>\n",
       "      <td>Điện Thoại - Máy Tính Bảng/Điện thoại Smartphone</td>\n",
       "      <td>Xiaomi</td>\n",
       "      <td>https://tiki.vn/xiaomi-redmi-note-7-pro-128gb-...</td>\n",
       "      <td>https://salt.tikicdn.com/cache/200x200/ts/prod...</td>\n",
       "      <td>4150000</td>\n",
       "      <td>93</td>\n",
       "      <td>89</td>\n",
       "      <td>0</td>\n",
       "    </tr>\n",
       "    <tr>\n",
       "      <th>3</th>\n",
       "      <td>283110</td>\n",
       "      <td>Điện Thoại iPhone 6s 32GB  - Nhập Khẩu Chính Hãng</td>\n",
       "      <td>Điện Thoại - Máy Tính Bảng/Điện thoại Smartphone</td>\n",
       "      <td>Apple</td>\n",
       "      <td>https://tiki.vn/dien-thoai-iphone-6s-32gb-nhap...</td>\n",
       "      <td>https://salt.tikicdn.com/cache/200x200/ts/prod...</td>\n",
       "      <td>6350000</td>\n",
       "      <td>88</td>\n",
       "      <td>109</td>\n",
       "      <td>1</td>\n",
       "    </tr>\n",
       "    <tr>\n",
       "      <th>4</th>\n",
       "      <td>22358908</td>\n",
       "      <td>Điện Thoại Samsung Galaxy Note 10 Plus (256GB/...</td>\n",
       "      <td>Điện Thoại - Máy Tính Bảng/Điện thoại Smartphone</td>\n",
       "      <td>Samsung</td>\n",
       "      <td>https://tiki.vn/dien-thoai-samsung-galaxy-note...</td>\n",
       "      <td>https://salt.tikicdn.com/cache/200x200/ts/prod...</td>\n",
       "      <td>21790000</td>\n",
       "      <td>86</td>\n",
       "      <td>38</td>\n",
       "      <td>1</td>\n",
       "    </tr>\n",
       "  </tbody>\n",
       "</table>\n",
       "</div>"
      ],
      "text/plain": [
       "         id                                               name  \\\n",
       "0   3717703  Điện Thoại Di Động GSM ZONO N8110 2.4inch - Hà...   \n",
       "1  11508168  Điện Thoại Samsung Galaxy A50 (64GB/4GB) - Hàn...   \n",
       "2  12298404  Xiaomi Redmi Note 7 Pro 128GB Ram 6GB - Hàng N...   \n",
       "3    283110  Điện Thoại iPhone 6s 32GB  - Nhập Khẩu Chính Hãng   \n",
       "4  22358908  Điện Thoại Samsung Galaxy Note 10 Plus (256GB/...   \n",
       "\n",
       "                                           category    brand  \\\n",
       "0   Điện Thoại - Máy Tính Bảng/Điện thoại phổ thông     Zono   \n",
       "1  Điện Thoại - Máy Tính Bảng/Điện thoại Smartphone  Samsung   \n",
       "2  Điện Thoại - Máy Tính Bảng/Điện thoại Smartphone   Xiaomi   \n",
       "3  Điện Thoại - Máy Tính Bảng/Điện thoại Smartphone    Apple   \n",
       "4  Điện Thoại - Máy Tính Bảng/Điện thoại Smartphone  Samsung   \n",
       "\n",
       "                                           item_link  \\\n",
       "0  https://tiki.vn/dien-thoai-di-dong-gsm-zono-n8...   \n",
       "1  https://tiki.vn/dien-thoai-samsung-galaxy-a50-...   \n",
       "2  https://tiki.vn/xiaomi-redmi-note-7-pro-128gb-...   \n",
       "3  https://tiki.vn/dien-thoai-iphone-6s-32gb-nhap...   \n",
       "4  https://tiki.vn/dien-thoai-samsung-galaxy-note...   \n",
       "\n",
       "                                            img_link     price rating review  \\\n",
       "0  https://salt.tikicdn.com/cache/200x200/ts/prod...    209000     57     15   \n",
       "1  https://salt.tikicdn.com/cache/200x200/ts/prod...   4990000     90    179   \n",
       "2  https://salt.tikicdn.com/cache/200x200/ts/prod...   4150000     93     89   \n",
       "3  https://salt.tikicdn.com/cache/200x200/ts/prod...   6350000     88    109   \n",
       "4  https://salt.tikicdn.com/cache/200x200/ts/prod...  21790000     86     38   \n",
       "\n",
       "   tikinow  \n",
       "0        1  \n",
       "1        1  \n",
       "2        0  \n",
       "3        1  \n",
       "4        1  "
      ]
     },
     "execution_count": 142,
     "metadata": {},
     "output_type": "execute_result"
    }
   ],
   "source": [
    "response = requests.get('https://tiki.vn/dien-thoai-may-tinh-bang/c1789?src=c.1789&page=2')\n",
    "soup = BeautifulSoup(response.text)\n",
    "id_list, name_list, category_list, brand_list, img_link_list, price_list, item_link_list,rating_list,no_review_list, tikinow_list =[], [], [],[],[],[],[],[],[],[]\n",
    "item_generals = soup.findAll('div',class_ = 'product-item')\n",
    "for item in item_generals:\n",
    "    id_list.append(item['data-id'])\n",
    "    name_list.append(item['data-title'].strip(' '))\n",
    "    category_list.append(item['data-category'])\n",
    "    brand_list.append(item['data-brand'])\n",
    "    price_list.append(item['data-price'])\n",
    "    img_link_list.append(item.img['src'])\n",
    "    item_link_list.append(item.a['href'])\n",
    "    rating_list.append(item.find('span', class_='rating-content').span['style'][-4:].strip(' %:'))\n",
    "    no_review_list.append(item.find('p', class_='review').text.split()[0].strip('()'))\n",
    "    tikinow_list.append(1 if item.find('i', class_='tikicon icon-tikinow') else 0)\n",
    "data = pd.DataFrame({'id':id_list, \n",
    "                    'name':name_list, \n",
    "                    'category':category_list, \n",
    "                    'brand':brand_list, \n",
    "                    'item_link':item_link_list, \n",
    "                    'img_link':img_link_list, \n",
    "                    'price':price_list,\n",
    "                    'rating':rating_list,\n",
    "                    'review':no_review_list,\n",
    "                    'tikinow':tikinow_list})\n",
    "data.head()\n"
   ]
  },
  {
   "cell_type": "code",
   "execution_count": 121,
   "metadata": {
    "scrolled": false
   },
   "outputs": [
    {
     "name": "stdout",
     "output_type": "stream",
     "text": [
      "https://tiki.vn/dien-thoai-may-tinh-bang/c1789?src=c.1789&page=2\n"
     ]
    }
   ],
   "source": [
    "print('https://tiki.vn'+soup.find(class_ ='next')['href'])"
   ]
  },
  {
   "cell_type": "code",
   "execution_count": null,
   "metadata": {},
   "outputs": [],
   "source": []
  }
 ],
 "metadata": {
  "kernelspec": {
   "display_name": "Python 3",
   "language": "python",
   "name": "python3"
  },
  "language_info": {
   "codemirror_mode": {
    "name": "ipython",
    "version": 3
   },
   "file_extension": ".py",
   "mimetype": "text/x-python",
   "name": "python",
   "nbconvert_exporter": "python",
   "pygments_lexer": "ipython3",
   "version": "3.7.3"
  }
 },
 "nbformat": 4,
 "nbformat_minor": 2
}
